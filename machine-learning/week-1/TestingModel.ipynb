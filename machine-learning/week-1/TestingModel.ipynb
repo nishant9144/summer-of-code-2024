{
  "nbformat": 4,
  "nbformat_minor": 0,
  "metadata": {
    "colab": {
      "provenance": []
    },
    "kernelspec": {
      "name": "python3",
      "display_name": "Python 3"
    },
    "language_info": {
      "name": "python"
    }
  },
  "cells": [
    {
      "cell_type": "code",
      "execution_count": null,
      "metadata": {
        "id": "0GNUQkCI35dh"
      },
      "outputs": [],
      "source": [
        "! pip install -q kaggle"
      ]
    },
    {
      "cell_type": "code",
      "source": [
        "from google.colab import files\n",
        "files.upload()"
      ],
      "metadata": {
        "colab": {
          "base_uri": "https://localhost:8080/",
          "height": 90
        },
        "id": "fQAplUUY38GZ",
        "outputId": "5730b72d-5297-4516-fe81-88d512af4fd2"
      },
      "execution_count": null,
      "outputs": [
        {
          "output_type": "display_data",
          "data": {
            "text/plain": [
              "<IPython.core.display.HTML object>"
            ],
            "text/html": [
              "\n",
              "     <input type=\"file\" id=\"files-73c353c6-36c1-4f7f-b5d3-20646cfb0967\" name=\"files[]\" multiple disabled\n",
              "        style=\"border:none\" />\n",
              "     <output id=\"result-73c353c6-36c1-4f7f-b5d3-20646cfb0967\">\n",
              "      Upload widget is only available when the cell has been executed in the\n",
              "      current browser session. Please rerun this cell to enable.\n",
              "      </output>\n",
              "      <script>// Copyright 2017 Google LLC\n",
              "//\n",
              "// Licensed under the Apache License, Version 2.0 (the \"License\");\n",
              "// you may not use this file except in compliance with the License.\n",
              "// You may obtain a copy of the License at\n",
              "//\n",
              "//      http://www.apache.org/licenses/LICENSE-2.0\n",
              "//\n",
              "// Unless required by applicable law or agreed to in writing, software\n",
              "// distributed under the License is distributed on an \"AS IS\" BASIS,\n",
              "// WITHOUT WARRANTIES OR CONDITIONS OF ANY KIND, either express or implied.\n",
              "// See the License for the specific language governing permissions and\n",
              "// limitations under the License.\n",
              "\n",
              "/**\n",
              " * @fileoverview Helpers for google.colab Python module.\n",
              " */\n",
              "(function(scope) {\n",
              "function span(text, styleAttributes = {}) {\n",
              "  const element = document.createElement('span');\n",
              "  element.textContent = text;\n",
              "  for (const key of Object.keys(styleAttributes)) {\n",
              "    element.style[key] = styleAttributes[key];\n",
              "  }\n",
              "  return element;\n",
              "}\n",
              "\n",
              "// Max number of bytes which will be uploaded at a time.\n",
              "const MAX_PAYLOAD_SIZE = 100 * 1024;\n",
              "\n",
              "function _uploadFiles(inputId, outputId) {\n",
              "  const steps = uploadFilesStep(inputId, outputId);\n",
              "  const outputElement = document.getElementById(outputId);\n",
              "  // Cache steps on the outputElement to make it available for the next call\n",
              "  // to uploadFilesContinue from Python.\n",
              "  outputElement.steps = steps;\n",
              "\n",
              "  return _uploadFilesContinue(outputId);\n",
              "}\n",
              "\n",
              "// This is roughly an async generator (not supported in the browser yet),\n",
              "// where there are multiple asynchronous steps and the Python side is going\n",
              "// to poll for completion of each step.\n",
              "// This uses a Promise to block the python side on completion of each step,\n",
              "// then passes the result of the previous step as the input to the next step.\n",
              "function _uploadFilesContinue(outputId) {\n",
              "  const outputElement = document.getElementById(outputId);\n",
              "  const steps = outputElement.steps;\n",
              "\n",
              "  const next = steps.next(outputElement.lastPromiseValue);\n",
              "  return Promise.resolve(next.value.promise).then((value) => {\n",
              "    // Cache the last promise value to make it available to the next\n",
              "    // step of the generator.\n",
              "    outputElement.lastPromiseValue = value;\n",
              "    return next.value.response;\n",
              "  });\n",
              "}\n",
              "\n",
              "/**\n",
              " * Generator function which is called between each async step of the upload\n",
              " * process.\n",
              " * @param {string} inputId Element ID of the input file picker element.\n",
              " * @param {string} outputId Element ID of the output display.\n",
              " * @return {!Iterable<!Object>} Iterable of next steps.\n",
              " */\n",
              "function* uploadFilesStep(inputId, outputId) {\n",
              "  const inputElement = document.getElementById(inputId);\n",
              "  inputElement.disabled = false;\n",
              "\n",
              "  const outputElement = document.getElementById(outputId);\n",
              "  outputElement.innerHTML = '';\n",
              "\n",
              "  const pickedPromise = new Promise((resolve) => {\n",
              "    inputElement.addEventListener('change', (e) => {\n",
              "      resolve(e.target.files);\n",
              "    });\n",
              "  });\n",
              "\n",
              "  const cancel = document.createElement('button');\n",
              "  inputElement.parentElement.appendChild(cancel);\n",
              "  cancel.textContent = 'Cancel upload';\n",
              "  const cancelPromise = new Promise((resolve) => {\n",
              "    cancel.onclick = () => {\n",
              "      resolve(null);\n",
              "    };\n",
              "  });\n",
              "\n",
              "  // Wait for the user to pick the files.\n",
              "  const files = yield {\n",
              "    promise: Promise.race([pickedPromise, cancelPromise]),\n",
              "    response: {\n",
              "      action: 'starting',\n",
              "    }\n",
              "  };\n",
              "\n",
              "  cancel.remove();\n",
              "\n",
              "  // Disable the input element since further picks are not allowed.\n",
              "  inputElement.disabled = true;\n",
              "\n",
              "  if (!files) {\n",
              "    return {\n",
              "      response: {\n",
              "        action: 'complete',\n",
              "      }\n",
              "    };\n",
              "  }\n",
              "\n",
              "  for (const file of files) {\n",
              "    const li = document.createElement('li');\n",
              "    li.append(span(file.name, {fontWeight: 'bold'}));\n",
              "    li.append(span(\n",
              "        `(${file.type || 'n/a'}) - ${file.size} bytes, ` +\n",
              "        `last modified: ${\n",
              "            file.lastModifiedDate ? file.lastModifiedDate.toLocaleDateString() :\n",
              "                                    'n/a'} - `));\n",
              "    const percent = span('0% done');\n",
              "    li.appendChild(percent);\n",
              "\n",
              "    outputElement.appendChild(li);\n",
              "\n",
              "    const fileDataPromise = new Promise((resolve) => {\n",
              "      const reader = new FileReader();\n",
              "      reader.onload = (e) => {\n",
              "        resolve(e.target.result);\n",
              "      };\n",
              "      reader.readAsArrayBuffer(file);\n",
              "    });\n",
              "    // Wait for the data to be ready.\n",
              "    let fileData = yield {\n",
              "      promise: fileDataPromise,\n",
              "      response: {\n",
              "        action: 'continue',\n",
              "      }\n",
              "    };\n",
              "\n",
              "    // Use a chunked sending to avoid message size limits. See b/62115660.\n",
              "    let position = 0;\n",
              "    do {\n",
              "      const length = Math.min(fileData.byteLength - position, MAX_PAYLOAD_SIZE);\n",
              "      const chunk = new Uint8Array(fileData, position, length);\n",
              "      position += length;\n",
              "\n",
              "      const base64 = btoa(String.fromCharCode.apply(null, chunk));\n",
              "      yield {\n",
              "        response: {\n",
              "          action: 'append',\n",
              "          file: file.name,\n",
              "          data: base64,\n",
              "        },\n",
              "      };\n",
              "\n",
              "      let percentDone = fileData.byteLength === 0 ?\n",
              "          100 :\n",
              "          Math.round((position / fileData.byteLength) * 100);\n",
              "      percent.textContent = `${percentDone}% done`;\n",
              "\n",
              "    } while (position < fileData.byteLength);\n",
              "  }\n",
              "\n",
              "  // All done.\n",
              "  yield {\n",
              "    response: {\n",
              "      action: 'complete',\n",
              "    }\n",
              "  };\n",
              "}\n",
              "\n",
              "scope.google = scope.google || {};\n",
              "scope.google.colab = scope.google.colab || {};\n",
              "scope.google.colab._files = {\n",
              "  _uploadFiles,\n",
              "  _uploadFilesContinue,\n",
              "};\n",
              "})(self);\n",
              "</script> "
            ]
          },
          "metadata": {}
        },
        {
          "output_type": "stream",
          "name": "stdout",
          "text": [
            "Saving kaggle.json to kaggle.json\n"
          ]
        },
        {
          "output_type": "execute_result",
          "data": {
            "text/plain": [
              "{'kaggle.json': b'{\"username\":\"nishanthardy\",\"key\":\"f6bd6610310a710d2803039bd24af844\"}'}"
            ]
          },
          "metadata": {},
          "execution_count": 3
        }
      ]
    },
    {
      "cell_type": "code",
      "source": [
        "! mkdir ~/.kaggle"
      ],
      "metadata": {
        "id": "AIvQZkGT4Oqb"
      },
      "execution_count": null,
      "outputs": []
    },
    {
      "cell_type": "code",
      "source": [
        "! cp kaggle.json ~/.kaggle/"
      ],
      "metadata": {
        "id": "uIS2M0Zz4TAL"
      },
      "execution_count": null,
      "outputs": []
    },
    {
      "cell_type": "code",
      "source": [
        "! chmod 600 ~/.kaggle/kaggle.json"
      ],
      "metadata": {
        "id": "1tIGkF-z4VmU"
      },
      "execution_count": null,
      "outputs": []
    },
    {
      "cell_type": "code",
      "source": [
        "! kaggle datasets list"
      ],
      "metadata": {
        "colab": {
          "base_uri": "https://localhost:8080/"
        },
        "id": "aSCpYdro4Zqa",
        "outputId": "01a2fdd7-cc2f-4eef-fad5-45c0dd2d3f2d"
      },
      "execution_count": null,
      "outputs": [
        {
          "output_type": "stream",
          "name": "stdout",
          "text": [
            "ref                                                             title                                             size  lastUpdated          downloadCount  voteCount  usabilityRating  \n",
            "--------------------------------------------------------------  -----------------------------------------------  -----  -------------------  -------------  ---------  ---------------  \n",
            "rabieelkharoua/students-performance-dataset                     📚 Students Performance Dataset 📚                  66KB  2024-06-12 23:09:20           3296         62  1.0              \n",
            "mayankanand2701/samsung-stock-price-dataset                     Samsung Stock Price Dataset 📱🏭📈                  114KB  2024-06-13 14:51:11           1098         29  1.0              \n",
            "shreyanshverma27/online-sales-dataset-popular-marketplace-data  Online Sales Dataset - Popular Marketplace Data    7KB  2024-05-25 23:55:26          10856        195  1.0              \n",
            "nelgiriyewithana/most-streamed-spotify-songs-2024               Most Streamed Spotify Songs 2024                 496KB  2024-06-15 18:50:51           2514         62  1.0              \n",
            "teocalvo/teomewhy-loyalty-system                                TeoMeWhy Loyalty System                           21MB  2024-06-24 11:53:53            318        418  1.0              \n",
            "zeesolver/data-eng-salary-2024                                  Data Developer Salary in 2024💰                   108KB  2024-06-10 07:33:22           2464         33  1.0              \n",
            "willianoliveiragibin/deaths-from-malnutrition                   Deaths from malnutrition                          25KB  2024-06-08 18:51:22            937         31  1.0              \n",
            "rabieelkharoua/asthma-disease-dataset                           🌬️ Asthma Disease Dataset 🌬️                     222KB  2024-06-12 00:25:52           1220         31  1.0              \n",
            "artermiloff/steam-games-dataset                                 Steam Games Dataset 2024                         201MB  2024-06-17 15:37:16            943         41  1.0              \n",
            "rabieelkharoua/alzheimers-disease-dataset                       🧠 Alzheimer's Disease Dataset 🧠                  268KB  2024-06-11 20:24:30           1125         39  1.0              \n",
            "akashnath29/lung-cancer-dataset                                 Lung Cancer Dataset                               51KB  2024-06-15 05:53:47           1472         35  0.9375           \n",
            "khushikhushikhushi/best-selling-music-artists                   Best-Selling Music Artists                        10KB  2024-06-15 07:41:33            676         26  1.0              \n",
            "rabieelkharoua/predict-pet-adoption-status-dataset              🐾 Predict Pet Adoption Status Dataset 🐾           44KB  2024-06-21 09:49:14            585         30  1.0              \n",
            "damirdizdarevic/uefa-euro-2024-players                          UEFA EURO 2024 - Players                          15KB  2024-06-08 18:07:29           2612         54  1.0              \n",
            "sahilprajapati143/retail-analysis-large-dataset                 Retail Analysis on Large Dataset                  26MB  2024-06-14 18:32:07           1310         25  1.0              \n",
            "informrohit1/smartphones-dataset                                Smartphones_Dataset                               23KB  2024-06-09 10:24:51           2936         58  1.0              \n",
            "antoniocola/earthquake-perception-dataset                       Earthquake Perception Dataset                     14KB  2024-06-06 13:20:22            880         22  1.0              \n",
            "stealthtechnologies/employee-attrition-dataset                  Employee Attrition Classification Dataset          2MB  2024-06-11 11:25:46           1014         26  1.0              \n",
            "rabieelkharoua/consumer-electronics-sales-dataset               📱 Predict Consumer Electronics Sales Dataset 💻   158KB  2024-06-19 23:22:51            678         27  1.0              \n",
            "krupadharamshi/breast-cancer-dataset                            Breast Cancer Dataset                             49KB  2024-06-16 06:59:35            699         22  1.0              \n"
          ]
        }
      ]
    },
    {
      "cell_type": "code",
      "source": [
        "! kaggle datasets download -d jainilcoder/online-payment-fraud-detection-dataset"
      ],
      "metadata": {
        "colab": {
          "base_uri": "https://localhost:8080/"
        },
        "id": "5JsDnOYW4gbi",
        "outputId": "aa3dced8-0260-4b9e-c078-7ed4a23513bf"
      },
      "execution_count": null,
      "outputs": [
        {
          "output_type": "stream",
          "name": "stdout",
          "text": [
            "403 - Forbidden - Permission 'datasets.get' was denied\n"
          ]
        }
      ]
    },
    {
      "cell_type": "code",
      "source": [
        "! kaggle datasets download -d jainilcoder/online-payment-fraud-detection"
      ],
      "metadata": {
        "colab": {
          "base_uri": "https://localhost:8080/"
        },
        "id": "nuFi58tp5djb",
        "outputId": "f69efb59-f1b2-4449-89cd-2a97de6e4808"
      },
      "execution_count": null,
      "outputs": [
        {
          "output_type": "stream",
          "name": "stdout",
          "text": [
            "Dataset URL: https://www.kaggle.com/datasets/jainilcoder/online-payment-fraud-detection\n",
            "License(s): CC0-1.0\n",
            "Downloading online-payment-fraud-detection.zip to /content\n",
            " 97% 172M/178M [00:02<00:00, 80.0MB/s]\n",
            "100% 178M/178M [00:02<00:00, 69.9MB/s]\n"
          ]
        }
      ]
    },
    {
      "cell_type": "code",
      "source": [
        "! unzip online-payment-fraud-detection.zip"
      ],
      "metadata": {
        "colab": {
          "base_uri": "https://localhost:8080/"
        },
        "id": "Cws-uksx5nX1",
        "outputId": "796767c8-4869-4bd7-d0bb-13434e8d8c09"
      },
      "execution_count": null,
      "outputs": [
        {
          "output_type": "stream",
          "name": "stdout",
          "text": [
            "Archive:  online-payment-fraud-detection.zip\n",
            "  inflating: onlinefraud.csv         \n"
          ]
        }
      ]
    },
    {
      "cell_type": "code",
      "source": [
        "import numpy as np\n",
        "import pandas as pd"
      ],
      "metadata": {
        "id": "Ypw54rqi6B00"
      },
      "execution_count": null,
      "outputs": []
    },
    {
      "cell_type": "code",
      "source": [
        "df = pd.read_csv('onlinefraud.csv')"
      ],
      "metadata": {
        "id": "UZFfwfbW6qe4"
      },
      "execution_count": null,
      "outputs": []
    },
    {
      "cell_type": "code",
      "source": [
        "df.head()"
      ],
      "metadata": {
        "colab": {
          "base_uri": "https://localhost:8080/",
          "height": 206
        },
        "id": "WK6D9eFI6wuL",
        "outputId": "bf0d3bb2-ee16-4396-eb08-4063c955248d"
      },
      "execution_count": null,
      "outputs": [
        {
          "output_type": "execute_result",
          "data": {
            "text/plain": [
              "   step      type    amount     nameOrig  oldbalanceOrg  newbalanceOrig  \\\n",
              "0     1   PAYMENT   9839.64  C1231006815       170136.0       160296.36   \n",
              "1     1   PAYMENT   1864.28  C1666544295        21249.0        19384.72   \n",
              "2     1  TRANSFER    181.00  C1305486145          181.0            0.00   \n",
              "3     1  CASH_OUT    181.00   C840083671          181.0            0.00   \n",
              "4     1   PAYMENT  11668.14  C2048537720        41554.0        29885.86   \n",
              "\n",
              "      nameDest  oldbalanceDest  newbalanceDest  isFraud  isFlaggedFraud  \n",
              "0  M1979787155             0.0             0.0        0               0  \n",
              "1  M2044282225             0.0             0.0        0               0  \n",
              "2   C553264065             0.0             0.0        1               0  \n",
              "3    C38997010         21182.0             0.0        1               0  \n",
              "4  M1230701703             0.0             0.0        0               0  "
            ],
            "text/html": [
              "\n",
              "  <div id=\"df-d1dfef6a-3303-41be-a1ff-ef7e353793f6\" class=\"colab-df-container\">\n",
              "    <div>\n",
              "<style scoped>\n",
              "    .dataframe tbody tr th:only-of-type {\n",
              "        vertical-align: middle;\n",
              "    }\n",
              "\n",
              "    .dataframe tbody tr th {\n",
              "        vertical-align: top;\n",
              "    }\n",
              "\n",
              "    .dataframe thead th {\n",
              "        text-align: right;\n",
              "    }\n",
              "</style>\n",
              "<table border=\"1\" class=\"dataframe\">\n",
              "  <thead>\n",
              "    <tr style=\"text-align: right;\">\n",
              "      <th></th>\n",
              "      <th>step</th>\n",
              "      <th>type</th>\n",
              "      <th>amount</th>\n",
              "      <th>nameOrig</th>\n",
              "      <th>oldbalanceOrg</th>\n",
              "      <th>newbalanceOrig</th>\n",
              "      <th>nameDest</th>\n",
              "      <th>oldbalanceDest</th>\n",
              "      <th>newbalanceDest</th>\n",
              "      <th>isFraud</th>\n",
              "      <th>isFlaggedFraud</th>\n",
              "    </tr>\n",
              "  </thead>\n",
              "  <tbody>\n",
              "    <tr>\n",
              "      <th>0</th>\n",
              "      <td>1</td>\n",
              "      <td>PAYMENT</td>\n",
              "      <td>9839.64</td>\n",
              "      <td>C1231006815</td>\n",
              "      <td>170136.0</td>\n",
              "      <td>160296.36</td>\n",
              "      <td>M1979787155</td>\n",
              "      <td>0.0</td>\n",
              "      <td>0.0</td>\n",
              "      <td>0</td>\n",
              "      <td>0</td>\n",
              "    </tr>\n",
              "    <tr>\n",
              "      <th>1</th>\n",
              "      <td>1</td>\n",
              "      <td>PAYMENT</td>\n",
              "      <td>1864.28</td>\n",
              "      <td>C1666544295</td>\n",
              "      <td>21249.0</td>\n",
              "      <td>19384.72</td>\n",
              "      <td>M2044282225</td>\n",
              "      <td>0.0</td>\n",
              "      <td>0.0</td>\n",
              "      <td>0</td>\n",
              "      <td>0</td>\n",
              "    </tr>\n",
              "    <tr>\n",
              "      <th>2</th>\n",
              "      <td>1</td>\n",
              "      <td>TRANSFER</td>\n",
              "      <td>181.00</td>\n",
              "      <td>C1305486145</td>\n",
              "      <td>181.0</td>\n",
              "      <td>0.00</td>\n",
              "      <td>C553264065</td>\n",
              "      <td>0.0</td>\n",
              "      <td>0.0</td>\n",
              "      <td>1</td>\n",
              "      <td>0</td>\n",
              "    </tr>\n",
              "    <tr>\n",
              "      <th>3</th>\n",
              "      <td>1</td>\n",
              "      <td>CASH_OUT</td>\n",
              "      <td>181.00</td>\n",
              "      <td>C840083671</td>\n",
              "      <td>181.0</td>\n",
              "      <td>0.00</td>\n",
              "      <td>C38997010</td>\n",
              "      <td>21182.0</td>\n",
              "      <td>0.0</td>\n",
              "      <td>1</td>\n",
              "      <td>0</td>\n",
              "    </tr>\n",
              "    <tr>\n",
              "      <th>4</th>\n",
              "      <td>1</td>\n",
              "      <td>PAYMENT</td>\n",
              "      <td>11668.14</td>\n",
              "      <td>C2048537720</td>\n",
              "      <td>41554.0</td>\n",
              "      <td>29885.86</td>\n",
              "      <td>M1230701703</td>\n",
              "      <td>0.0</td>\n",
              "      <td>0.0</td>\n",
              "      <td>0</td>\n",
              "      <td>0</td>\n",
              "    </tr>\n",
              "  </tbody>\n",
              "</table>\n",
              "</div>\n",
              "    <div class=\"colab-df-buttons\">\n",
              "\n",
              "  <div class=\"colab-df-container\">\n",
              "    <button class=\"colab-df-convert\" onclick=\"convertToInteractive('df-d1dfef6a-3303-41be-a1ff-ef7e353793f6')\"\n",
              "            title=\"Convert this dataframe to an interactive table.\"\n",
              "            style=\"display:none;\">\n",
              "\n",
              "  <svg xmlns=\"http://www.w3.org/2000/svg\" height=\"24px\" viewBox=\"0 -960 960 960\">\n",
              "    <path d=\"M120-120v-720h720v720H120Zm60-500h600v-160H180v160Zm220 220h160v-160H400v160Zm0 220h160v-160H400v160ZM180-400h160v-160H180v160Zm440 0h160v-160H620v160ZM180-180h160v-160H180v160Zm440 0h160v-160H620v160Z\"/>\n",
              "  </svg>\n",
              "    </button>\n",
              "\n",
              "  <style>\n",
              "    .colab-df-container {\n",
              "      display:flex;\n",
              "      gap: 12px;\n",
              "    }\n",
              "\n",
              "    .colab-df-convert {\n",
              "      background-color: #E8F0FE;\n",
              "      border: none;\n",
              "      border-radius: 50%;\n",
              "      cursor: pointer;\n",
              "      display: none;\n",
              "      fill: #1967D2;\n",
              "      height: 32px;\n",
              "      padding: 0 0 0 0;\n",
              "      width: 32px;\n",
              "    }\n",
              "\n",
              "    .colab-df-convert:hover {\n",
              "      background-color: #E2EBFA;\n",
              "      box-shadow: 0px 1px 2px rgba(60, 64, 67, 0.3), 0px 1px 3px 1px rgba(60, 64, 67, 0.15);\n",
              "      fill: #174EA6;\n",
              "    }\n",
              "\n",
              "    .colab-df-buttons div {\n",
              "      margin-bottom: 4px;\n",
              "    }\n",
              "\n",
              "    [theme=dark] .colab-df-convert {\n",
              "      background-color: #3B4455;\n",
              "      fill: #D2E3FC;\n",
              "    }\n",
              "\n",
              "    [theme=dark] .colab-df-convert:hover {\n",
              "      background-color: #434B5C;\n",
              "      box-shadow: 0px 1px 3px 1px rgba(0, 0, 0, 0.15);\n",
              "      filter: drop-shadow(0px 1px 2px rgba(0, 0, 0, 0.3));\n",
              "      fill: #FFFFFF;\n",
              "    }\n",
              "  </style>\n",
              "\n",
              "    <script>\n",
              "      const buttonEl =\n",
              "        document.querySelector('#df-d1dfef6a-3303-41be-a1ff-ef7e353793f6 button.colab-df-convert');\n",
              "      buttonEl.style.display =\n",
              "        google.colab.kernel.accessAllowed ? 'block' : 'none';\n",
              "\n",
              "      async function convertToInteractive(key) {\n",
              "        const element = document.querySelector('#df-d1dfef6a-3303-41be-a1ff-ef7e353793f6');\n",
              "        const dataTable =\n",
              "          await google.colab.kernel.invokeFunction('convertToInteractive',\n",
              "                                                    [key], {});\n",
              "        if (!dataTable) return;\n",
              "\n",
              "        const docLinkHtml = 'Like what you see? Visit the ' +\n",
              "          '<a target=\"_blank\" href=https://colab.research.google.com/notebooks/data_table.ipynb>data table notebook</a>'\n",
              "          + ' to learn more about interactive tables.';\n",
              "        element.innerHTML = '';\n",
              "        dataTable['output_type'] = 'display_data';\n",
              "        await google.colab.output.renderOutput(dataTable, element);\n",
              "        const docLink = document.createElement('div');\n",
              "        docLink.innerHTML = docLinkHtml;\n",
              "        element.appendChild(docLink);\n",
              "      }\n",
              "    </script>\n",
              "  </div>\n",
              "\n",
              "\n",
              "<div id=\"df-3094beff-c3b8-4ef4-a8a8-6fcafbbb2d50\">\n",
              "  <button class=\"colab-df-quickchart\" onclick=\"quickchart('df-3094beff-c3b8-4ef4-a8a8-6fcafbbb2d50')\"\n",
              "            title=\"Suggest charts\"\n",
              "            style=\"display:none;\">\n",
              "\n",
              "<svg xmlns=\"http://www.w3.org/2000/svg\" height=\"24px\"viewBox=\"0 0 24 24\"\n",
              "     width=\"24px\">\n",
              "    <g>\n",
              "        <path d=\"M19 3H5c-1.1 0-2 .9-2 2v14c0 1.1.9 2 2 2h14c1.1 0 2-.9 2-2V5c0-1.1-.9-2-2-2zM9 17H7v-7h2v7zm4 0h-2V7h2v10zm4 0h-2v-4h2v4z\"/>\n",
              "    </g>\n",
              "</svg>\n",
              "  </button>\n",
              "\n",
              "<style>\n",
              "  .colab-df-quickchart {\n",
              "      --bg-color: #E8F0FE;\n",
              "      --fill-color: #1967D2;\n",
              "      --hover-bg-color: #E2EBFA;\n",
              "      --hover-fill-color: #174EA6;\n",
              "      --disabled-fill-color: #AAA;\n",
              "      --disabled-bg-color: #DDD;\n",
              "  }\n",
              "\n",
              "  [theme=dark] .colab-df-quickchart {\n",
              "      --bg-color: #3B4455;\n",
              "      --fill-color: #D2E3FC;\n",
              "      --hover-bg-color: #434B5C;\n",
              "      --hover-fill-color: #FFFFFF;\n",
              "      --disabled-bg-color: #3B4455;\n",
              "      --disabled-fill-color: #666;\n",
              "  }\n",
              "\n",
              "  .colab-df-quickchart {\n",
              "    background-color: var(--bg-color);\n",
              "    border: none;\n",
              "    border-radius: 50%;\n",
              "    cursor: pointer;\n",
              "    display: none;\n",
              "    fill: var(--fill-color);\n",
              "    height: 32px;\n",
              "    padding: 0;\n",
              "    width: 32px;\n",
              "  }\n",
              "\n",
              "  .colab-df-quickchart:hover {\n",
              "    background-color: var(--hover-bg-color);\n",
              "    box-shadow: 0 1px 2px rgba(60, 64, 67, 0.3), 0 1px 3px 1px rgba(60, 64, 67, 0.15);\n",
              "    fill: var(--button-hover-fill-color);\n",
              "  }\n",
              "\n",
              "  .colab-df-quickchart-complete:disabled,\n",
              "  .colab-df-quickchart-complete:disabled:hover {\n",
              "    background-color: var(--disabled-bg-color);\n",
              "    fill: var(--disabled-fill-color);\n",
              "    box-shadow: none;\n",
              "  }\n",
              "\n",
              "  .colab-df-spinner {\n",
              "    border: 2px solid var(--fill-color);\n",
              "    border-color: transparent;\n",
              "    border-bottom-color: var(--fill-color);\n",
              "    animation:\n",
              "      spin 1s steps(1) infinite;\n",
              "  }\n",
              "\n",
              "  @keyframes spin {\n",
              "    0% {\n",
              "      border-color: transparent;\n",
              "      border-bottom-color: var(--fill-color);\n",
              "      border-left-color: var(--fill-color);\n",
              "    }\n",
              "    20% {\n",
              "      border-color: transparent;\n",
              "      border-left-color: var(--fill-color);\n",
              "      border-top-color: var(--fill-color);\n",
              "    }\n",
              "    30% {\n",
              "      border-color: transparent;\n",
              "      border-left-color: var(--fill-color);\n",
              "      border-top-color: var(--fill-color);\n",
              "      border-right-color: var(--fill-color);\n",
              "    }\n",
              "    40% {\n",
              "      border-color: transparent;\n",
              "      border-right-color: var(--fill-color);\n",
              "      border-top-color: var(--fill-color);\n",
              "    }\n",
              "    60% {\n",
              "      border-color: transparent;\n",
              "      border-right-color: var(--fill-color);\n",
              "    }\n",
              "    80% {\n",
              "      border-color: transparent;\n",
              "      border-right-color: var(--fill-color);\n",
              "      border-bottom-color: var(--fill-color);\n",
              "    }\n",
              "    90% {\n",
              "      border-color: transparent;\n",
              "      border-bottom-color: var(--fill-color);\n",
              "    }\n",
              "  }\n",
              "</style>\n",
              "\n",
              "  <script>\n",
              "    async function quickchart(key) {\n",
              "      const quickchartButtonEl =\n",
              "        document.querySelector('#' + key + ' button');\n",
              "      quickchartButtonEl.disabled = true;  // To prevent multiple clicks.\n",
              "      quickchartButtonEl.classList.add('colab-df-spinner');\n",
              "      try {\n",
              "        const charts = await google.colab.kernel.invokeFunction(\n",
              "            'suggestCharts', [key], {});\n",
              "      } catch (error) {\n",
              "        console.error('Error during call to suggestCharts:', error);\n",
              "      }\n",
              "      quickchartButtonEl.classList.remove('colab-df-spinner');\n",
              "      quickchartButtonEl.classList.add('colab-df-quickchart-complete');\n",
              "    }\n",
              "    (() => {\n",
              "      let quickchartButtonEl =\n",
              "        document.querySelector('#df-3094beff-c3b8-4ef4-a8a8-6fcafbbb2d50 button');\n",
              "      quickchartButtonEl.style.display =\n",
              "        google.colab.kernel.accessAllowed ? 'block' : 'none';\n",
              "    })();\n",
              "  </script>\n",
              "</div>\n",
              "\n",
              "    </div>\n",
              "  </div>\n"
            ],
            "application/vnd.google.colaboratory.intrinsic+json": {
              "type": "dataframe",
              "variable_name": "df"
            }
          },
          "metadata": {},
          "execution_count": 13
        }
      ]
    },
    {
      "cell_type": "code",
      "source": [
        "df.dtypes"
      ],
      "metadata": {
        "colab": {
          "base_uri": "https://localhost:8080/"
        },
        "id": "8l8atp5o69P1",
        "outputId": "c5c76222-2c29-46d1-9840-40b9db09aa2b"
      },
      "execution_count": null,
      "outputs": [
        {
          "output_type": "execute_result",
          "data": {
            "text/plain": [
              "step                int64\n",
              "type               object\n",
              "amount            float64\n",
              "nameOrig           object\n",
              "oldbalanceOrg     float64\n",
              "newbalanceOrig    float64\n",
              "nameDest           object\n",
              "oldbalanceDest    float64\n",
              "newbalanceDest    float64\n",
              "isFraud             int64\n",
              "isFlaggedFraud      int64\n",
              "dtype: object"
            ]
          },
          "metadata": {},
          "execution_count": 14
        }
      ]
    },
    {
      "cell_type": "code",
      "source": [
        "n,m=df.shape #m=df.shape[1]\n",
        "df.shape"
      ],
      "metadata": {
        "colab": {
          "base_uri": "https://localhost:8080/"
        },
        "id": "AuT-0jqH7DAY",
        "outputId": "80b53d62-32fa-4cf9-e519-fa5000283908"
      },
      "execution_count": null,
      "outputs": [
        {
          "output_type": "execute_result",
          "data": {
            "text/plain": [
              "(6362620, 11)"
            ]
          },
          "metadata": {},
          "execution_count": 15
        }
      ]
    },
    {
      "cell_type": "code",
      "source": [
        "for i in range(m):\n",
        "    column_name = df.columns[i]\n",
        "    print(f\"Column: {column_name}\")\n",
        "    print(df.iloc[:, i].isnull().value_counts())\n",
        "    print(\"\\n\")"
      ],
      "metadata": {
        "colab": {
          "base_uri": "https://localhost:8080/"
        },
        "id": "oDv3i_wg76RA",
        "outputId": "ff567f78-7a2e-4efe-be65-c2e12b84c527"
      },
      "execution_count": null,
      "outputs": [
        {
          "output_type": "stream",
          "name": "stdout",
          "text": [
            "Column: step\n",
            "step\n",
            "False    6362620\n",
            "Name: count, dtype: int64\n",
            "\n",
            "\n",
            "Column: type\n",
            "type\n",
            "False    6362620\n",
            "Name: count, dtype: int64\n",
            "\n",
            "\n",
            "Column: amount\n",
            "amount\n",
            "False    6362620\n",
            "Name: count, dtype: int64\n",
            "\n",
            "\n",
            "Column: nameOrig\n",
            "nameOrig\n",
            "False    6362620\n",
            "Name: count, dtype: int64\n",
            "\n",
            "\n",
            "Column: oldbalanceOrg\n",
            "oldbalanceOrg\n",
            "False    6362620\n",
            "Name: count, dtype: int64\n",
            "\n",
            "\n",
            "Column: newbalanceOrig\n",
            "newbalanceOrig\n",
            "False    6362620\n",
            "Name: count, dtype: int64\n",
            "\n",
            "\n",
            "Column: nameDest\n",
            "nameDest\n",
            "False    6362620\n",
            "Name: count, dtype: int64\n",
            "\n",
            "\n",
            "Column: oldbalanceDest\n",
            "oldbalanceDest\n",
            "False    6362620\n",
            "Name: count, dtype: int64\n",
            "\n",
            "\n",
            "Column: newbalanceDest\n",
            "newbalanceDest\n",
            "False    6362620\n",
            "Name: count, dtype: int64\n",
            "\n",
            "\n",
            "Column: isFraud\n",
            "isFraud\n",
            "False    6362620\n",
            "Name: count, dtype: int64\n",
            "\n",
            "\n",
            "Column: isFlaggedFraud\n",
            "isFlaggedFraud\n",
            "False    6362620\n",
            "Name: count, dtype: int64\n",
            "\n",
            "\n"
          ]
        }
      ]
    },
    {
      "cell_type": "markdown",
      "source": [
        "Removing the non-usable features"
      ],
      "metadata": {
        "id": "hdWGd_BtF23W"
      }
    },
    {
      "cell_type": "code",
      "source": [
        "df.drop(['isFlaggedFraud','nameOrig','nameDest'],axis=1,inplace=True)"
      ],
      "metadata": {
        "id": "3sWB0eu08AKM"
      },
      "execution_count": null,
      "outputs": []
    },
    {
      "cell_type": "code",
      "source": [
        "df.head()"
      ],
      "metadata": {
        "colab": {
          "base_uri": "https://localhost:8080/",
          "height": 206
        },
        "id": "plZcRBnh8XtJ",
        "outputId": "305cc3b0-b135-43ab-82ad-41a2a5f43af4"
      },
      "execution_count": null,
      "outputs": [
        {
          "output_type": "execute_result",
          "data": {
            "text/plain": [
              "   step      type    amount  oldbalanceOrg  newbalanceOrig  oldbalanceDest  \\\n",
              "0     1   PAYMENT   9839.64       170136.0       160296.36             0.0   \n",
              "1     1   PAYMENT   1864.28        21249.0        19384.72             0.0   \n",
              "2     1  TRANSFER    181.00          181.0            0.00             0.0   \n",
              "3     1  CASH_OUT    181.00          181.0            0.00         21182.0   \n",
              "4     1   PAYMENT  11668.14        41554.0        29885.86             0.0   \n",
              "\n",
              "   newbalanceDest  isFraud  \n",
              "0             0.0        0  \n",
              "1             0.0        0  \n",
              "2             0.0        1  \n",
              "3             0.0        1  \n",
              "4             0.0        0  "
            ],
            "text/html": [
              "\n",
              "  <div id=\"df-6f48a929-c755-4497-adc0-1c359fff08dd\" class=\"colab-df-container\">\n",
              "    <div>\n",
              "<style scoped>\n",
              "    .dataframe tbody tr th:only-of-type {\n",
              "        vertical-align: middle;\n",
              "    }\n",
              "\n",
              "    .dataframe tbody tr th {\n",
              "        vertical-align: top;\n",
              "    }\n",
              "\n",
              "    .dataframe thead th {\n",
              "        text-align: right;\n",
              "    }\n",
              "</style>\n",
              "<table border=\"1\" class=\"dataframe\">\n",
              "  <thead>\n",
              "    <tr style=\"text-align: right;\">\n",
              "      <th></th>\n",
              "      <th>step</th>\n",
              "      <th>type</th>\n",
              "      <th>amount</th>\n",
              "      <th>oldbalanceOrg</th>\n",
              "      <th>newbalanceOrig</th>\n",
              "      <th>oldbalanceDest</th>\n",
              "      <th>newbalanceDest</th>\n",
              "      <th>isFraud</th>\n",
              "    </tr>\n",
              "  </thead>\n",
              "  <tbody>\n",
              "    <tr>\n",
              "      <th>0</th>\n",
              "      <td>1</td>\n",
              "      <td>PAYMENT</td>\n",
              "      <td>9839.64</td>\n",
              "      <td>170136.0</td>\n",
              "      <td>160296.36</td>\n",
              "      <td>0.0</td>\n",
              "      <td>0.0</td>\n",
              "      <td>0</td>\n",
              "    </tr>\n",
              "    <tr>\n",
              "      <th>1</th>\n",
              "      <td>1</td>\n",
              "      <td>PAYMENT</td>\n",
              "      <td>1864.28</td>\n",
              "      <td>21249.0</td>\n",
              "      <td>19384.72</td>\n",
              "      <td>0.0</td>\n",
              "      <td>0.0</td>\n",
              "      <td>0</td>\n",
              "    </tr>\n",
              "    <tr>\n",
              "      <th>2</th>\n",
              "      <td>1</td>\n",
              "      <td>TRANSFER</td>\n",
              "      <td>181.00</td>\n",
              "      <td>181.0</td>\n",
              "      <td>0.00</td>\n",
              "      <td>0.0</td>\n",
              "      <td>0.0</td>\n",
              "      <td>1</td>\n",
              "    </tr>\n",
              "    <tr>\n",
              "      <th>3</th>\n",
              "      <td>1</td>\n",
              "      <td>CASH_OUT</td>\n",
              "      <td>181.00</td>\n",
              "      <td>181.0</td>\n",
              "      <td>0.00</td>\n",
              "      <td>21182.0</td>\n",
              "      <td>0.0</td>\n",
              "      <td>1</td>\n",
              "    </tr>\n",
              "    <tr>\n",
              "      <th>4</th>\n",
              "      <td>1</td>\n",
              "      <td>PAYMENT</td>\n",
              "      <td>11668.14</td>\n",
              "      <td>41554.0</td>\n",
              "      <td>29885.86</td>\n",
              "      <td>0.0</td>\n",
              "      <td>0.0</td>\n",
              "      <td>0</td>\n",
              "    </tr>\n",
              "  </tbody>\n",
              "</table>\n",
              "</div>\n",
              "    <div class=\"colab-df-buttons\">\n",
              "\n",
              "  <div class=\"colab-df-container\">\n",
              "    <button class=\"colab-df-convert\" onclick=\"convertToInteractive('df-6f48a929-c755-4497-adc0-1c359fff08dd')\"\n",
              "            title=\"Convert this dataframe to an interactive table.\"\n",
              "            style=\"display:none;\">\n",
              "\n",
              "  <svg xmlns=\"http://www.w3.org/2000/svg\" height=\"24px\" viewBox=\"0 -960 960 960\">\n",
              "    <path d=\"M120-120v-720h720v720H120Zm60-500h600v-160H180v160Zm220 220h160v-160H400v160Zm0 220h160v-160H400v160ZM180-400h160v-160H180v160Zm440 0h160v-160H620v160ZM180-180h160v-160H180v160Zm440 0h160v-160H620v160Z\"/>\n",
              "  </svg>\n",
              "    </button>\n",
              "\n",
              "  <style>\n",
              "    .colab-df-container {\n",
              "      display:flex;\n",
              "      gap: 12px;\n",
              "    }\n",
              "\n",
              "    .colab-df-convert {\n",
              "      background-color: #E8F0FE;\n",
              "      border: none;\n",
              "      border-radius: 50%;\n",
              "      cursor: pointer;\n",
              "      display: none;\n",
              "      fill: #1967D2;\n",
              "      height: 32px;\n",
              "      padding: 0 0 0 0;\n",
              "      width: 32px;\n",
              "    }\n",
              "\n",
              "    .colab-df-convert:hover {\n",
              "      background-color: #E2EBFA;\n",
              "      box-shadow: 0px 1px 2px rgba(60, 64, 67, 0.3), 0px 1px 3px 1px rgba(60, 64, 67, 0.15);\n",
              "      fill: #174EA6;\n",
              "    }\n",
              "\n",
              "    .colab-df-buttons div {\n",
              "      margin-bottom: 4px;\n",
              "    }\n",
              "\n",
              "    [theme=dark] .colab-df-convert {\n",
              "      background-color: #3B4455;\n",
              "      fill: #D2E3FC;\n",
              "    }\n",
              "\n",
              "    [theme=dark] .colab-df-convert:hover {\n",
              "      background-color: #434B5C;\n",
              "      box-shadow: 0px 1px 3px 1px rgba(0, 0, 0, 0.15);\n",
              "      filter: drop-shadow(0px 1px 2px rgba(0, 0, 0, 0.3));\n",
              "      fill: #FFFFFF;\n",
              "    }\n",
              "  </style>\n",
              "\n",
              "    <script>\n",
              "      const buttonEl =\n",
              "        document.querySelector('#df-6f48a929-c755-4497-adc0-1c359fff08dd button.colab-df-convert');\n",
              "      buttonEl.style.display =\n",
              "        google.colab.kernel.accessAllowed ? 'block' : 'none';\n",
              "\n",
              "      async function convertToInteractive(key) {\n",
              "        const element = document.querySelector('#df-6f48a929-c755-4497-adc0-1c359fff08dd');\n",
              "        const dataTable =\n",
              "          await google.colab.kernel.invokeFunction('convertToInteractive',\n",
              "                                                    [key], {});\n",
              "        if (!dataTable) return;\n",
              "\n",
              "        const docLinkHtml = 'Like what you see? Visit the ' +\n",
              "          '<a target=\"_blank\" href=https://colab.research.google.com/notebooks/data_table.ipynb>data table notebook</a>'\n",
              "          + ' to learn more about interactive tables.';\n",
              "        element.innerHTML = '';\n",
              "        dataTable['output_type'] = 'display_data';\n",
              "        await google.colab.output.renderOutput(dataTable, element);\n",
              "        const docLink = document.createElement('div');\n",
              "        docLink.innerHTML = docLinkHtml;\n",
              "        element.appendChild(docLink);\n",
              "      }\n",
              "    </script>\n",
              "  </div>\n",
              "\n",
              "\n",
              "<div id=\"df-66761ca8-5d53-4913-8f7b-9d0ff6a6fe88\">\n",
              "  <button class=\"colab-df-quickchart\" onclick=\"quickchart('df-66761ca8-5d53-4913-8f7b-9d0ff6a6fe88')\"\n",
              "            title=\"Suggest charts\"\n",
              "            style=\"display:none;\">\n",
              "\n",
              "<svg xmlns=\"http://www.w3.org/2000/svg\" height=\"24px\"viewBox=\"0 0 24 24\"\n",
              "     width=\"24px\">\n",
              "    <g>\n",
              "        <path d=\"M19 3H5c-1.1 0-2 .9-2 2v14c0 1.1.9 2 2 2h14c1.1 0 2-.9 2-2V5c0-1.1-.9-2-2-2zM9 17H7v-7h2v7zm4 0h-2V7h2v10zm4 0h-2v-4h2v4z\"/>\n",
              "    </g>\n",
              "</svg>\n",
              "  </button>\n",
              "\n",
              "<style>\n",
              "  .colab-df-quickchart {\n",
              "      --bg-color: #E8F0FE;\n",
              "      --fill-color: #1967D2;\n",
              "      --hover-bg-color: #E2EBFA;\n",
              "      --hover-fill-color: #174EA6;\n",
              "      --disabled-fill-color: #AAA;\n",
              "      --disabled-bg-color: #DDD;\n",
              "  }\n",
              "\n",
              "  [theme=dark] .colab-df-quickchart {\n",
              "      --bg-color: #3B4455;\n",
              "      --fill-color: #D2E3FC;\n",
              "      --hover-bg-color: #434B5C;\n",
              "      --hover-fill-color: #FFFFFF;\n",
              "      --disabled-bg-color: #3B4455;\n",
              "      --disabled-fill-color: #666;\n",
              "  }\n",
              "\n",
              "  .colab-df-quickchart {\n",
              "    background-color: var(--bg-color);\n",
              "    border: none;\n",
              "    border-radius: 50%;\n",
              "    cursor: pointer;\n",
              "    display: none;\n",
              "    fill: var(--fill-color);\n",
              "    height: 32px;\n",
              "    padding: 0;\n",
              "    width: 32px;\n",
              "  }\n",
              "\n",
              "  .colab-df-quickchart:hover {\n",
              "    background-color: var(--hover-bg-color);\n",
              "    box-shadow: 0 1px 2px rgba(60, 64, 67, 0.3), 0 1px 3px 1px rgba(60, 64, 67, 0.15);\n",
              "    fill: var(--button-hover-fill-color);\n",
              "  }\n",
              "\n",
              "  .colab-df-quickchart-complete:disabled,\n",
              "  .colab-df-quickchart-complete:disabled:hover {\n",
              "    background-color: var(--disabled-bg-color);\n",
              "    fill: var(--disabled-fill-color);\n",
              "    box-shadow: none;\n",
              "  }\n",
              "\n",
              "  .colab-df-spinner {\n",
              "    border: 2px solid var(--fill-color);\n",
              "    border-color: transparent;\n",
              "    border-bottom-color: var(--fill-color);\n",
              "    animation:\n",
              "      spin 1s steps(1) infinite;\n",
              "  }\n",
              "\n",
              "  @keyframes spin {\n",
              "    0% {\n",
              "      border-color: transparent;\n",
              "      border-bottom-color: var(--fill-color);\n",
              "      border-left-color: var(--fill-color);\n",
              "    }\n",
              "    20% {\n",
              "      border-color: transparent;\n",
              "      border-left-color: var(--fill-color);\n",
              "      border-top-color: var(--fill-color);\n",
              "    }\n",
              "    30% {\n",
              "      border-color: transparent;\n",
              "      border-left-color: var(--fill-color);\n",
              "      border-top-color: var(--fill-color);\n",
              "      border-right-color: var(--fill-color);\n",
              "    }\n",
              "    40% {\n",
              "      border-color: transparent;\n",
              "      border-right-color: var(--fill-color);\n",
              "      border-top-color: var(--fill-color);\n",
              "    }\n",
              "    60% {\n",
              "      border-color: transparent;\n",
              "      border-right-color: var(--fill-color);\n",
              "    }\n",
              "    80% {\n",
              "      border-color: transparent;\n",
              "      border-right-color: var(--fill-color);\n",
              "      border-bottom-color: var(--fill-color);\n",
              "    }\n",
              "    90% {\n",
              "      border-color: transparent;\n",
              "      border-bottom-color: var(--fill-color);\n",
              "    }\n",
              "  }\n",
              "</style>\n",
              "\n",
              "  <script>\n",
              "    async function quickchart(key) {\n",
              "      const quickchartButtonEl =\n",
              "        document.querySelector('#' + key + ' button');\n",
              "      quickchartButtonEl.disabled = true;  // To prevent multiple clicks.\n",
              "      quickchartButtonEl.classList.add('colab-df-spinner');\n",
              "      try {\n",
              "        const charts = await google.colab.kernel.invokeFunction(\n",
              "            'suggestCharts', [key], {});\n",
              "      } catch (error) {\n",
              "        console.error('Error during call to suggestCharts:', error);\n",
              "      }\n",
              "      quickchartButtonEl.classList.remove('colab-df-spinner');\n",
              "      quickchartButtonEl.classList.add('colab-df-quickchart-complete');\n",
              "    }\n",
              "    (() => {\n",
              "      let quickchartButtonEl =\n",
              "        document.querySelector('#df-66761ca8-5d53-4913-8f7b-9d0ff6a6fe88 button');\n",
              "      quickchartButtonEl.style.display =\n",
              "        google.colab.kernel.accessAllowed ? 'block' : 'none';\n",
              "    })();\n",
              "  </script>\n",
              "</div>\n",
              "\n",
              "    </div>\n",
              "  </div>\n"
            ],
            "application/vnd.google.colaboratory.intrinsic+json": {
              "type": "dataframe",
              "variable_name": "df"
            }
          },
          "metadata": {},
          "execution_count": 18
        }
      ]
    },
    {
      "cell_type": "code",
      "source": [
        "df.dropna()\n",
        "df.drop_duplicates()"
      ],
      "metadata": {
        "colab": {
          "base_uri": "https://localhost:8080/",
          "height": 423
        },
        "id": "Yd_tPKj28Zk3",
        "outputId": "a723e1fc-8ca8-4f78-d73a-1da8dd51745f"
      },
      "execution_count": null,
      "outputs": [
        {
          "output_type": "execute_result",
          "data": {
            "text/plain": [
              "         step      type      amount  oldbalanceOrg  newbalanceOrig  \\\n",
              "0           1   PAYMENT     9839.64      170136.00       160296.36   \n",
              "1           1   PAYMENT     1864.28       21249.00        19384.72   \n",
              "2           1  TRANSFER      181.00         181.00            0.00   \n",
              "3           1  CASH_OUT      181.00         181.00            0.00   \n",
              "4           1   PAYMENT    11668.14       41554.00        29885.86   \n",
              "...       ...       ...         ...            ...             ...   \n",
              "6362615   743  CASH_OUT   339682.13      339682.13            0.00   \n",
              "6362616   743  TRANSFER  6311409.28     6311409.28            0.00   \n",
              "6362617   743  CASH_OUT  6311409.28     6311409.28            0.00   \n",
              "6362618   743  TRANSFER   850002.52      850002.52            0.00   \n",
              "6362619   743  CASH_OUT   850002.52      850002.52            0.00   \n",
              "\n",
              "         oldbalanceDest  newbalanceDest  isFraud  \n",
              "0                  0.00            0.00        0  \n",
              "1                  0.00            0.00        0  \n",
              "2                  0.00            0.00        1  \n",
              "3              21182.00            0.00        1  \n",
              "4                  0.00            0.00        0  \n",
              "...                 ...             ...      ...  \n",
              "6362615            0.00       339682.13        1  \n",
              "6362616            0.00            0.00        1  \n",
              "6362617        68488.84      6379898.11        1  \n",
              "6362618            0.00            0.00        1  \n",
              "6362619      6510099.11      7360101.63        1  \n",
              "\n",
              "[6362077 rows x 8 columns]"
            ],
            "text/html": [
              "\n",
              "  <div id=\"df-d23bb44d-3df8-446e-b8a2-d3e0b4590e52\" class=\"colab-df-container\">\n",
              "    <div>\n",
              "<style scoped>\n",
              "    .dataframe tbody tr th:only-of-type {\n",
              "        vertical-align: middle;\n",
              "    }\n",
              "\n",
              "    .dataframe tbody tr th {\n",
              "        vertical-align: top;\n",
              "    }\n",
              "\n",
              "    .dataframe thead th {\n",
              "        text-align: right;\n",
              "    }\n",
              "</style>\n",
              "<table border=\"1\" class=\"dataframe\">\n",
              "  <thead>\n",
              "    <tr style=\"text-align: right;\">\n",
              "      <th></th>\n",
              "      <th>step</th>\n",
              "      <th>type</th>\n",
              "      <th>amount</th>\n",
              "      <th>oldbalanceOrg</th>\n",
              "      <th>newbalanceOrig</th>\n",
              "      <th>oldbalanceDest</th>\n",
              "      <th>newbalanceDest</th>\n",
              "      <th>isFraud</th>\n",
              "    </tr>\n",
              "  </thead>\n",
              "  <tbody>\n",
              "    <tr>\n",
              "      <th>0</th>\n",
              "      <td>1</td>\n",
              "      <td>PAYMENT</td>\n",
              "      <td>9839.64</td>\n",
              "      <td>170136.00</td>\n",
              "      <td>160296.36</td>\n",
              "      <td>0.00</td>\n",
              "      <td>0.00</td>\n",
              "      <td>0</td>\n",
              "    </tr>\n",
              "    <tr>\n",
              "      <th>1</th>\n",
              "      <td>1</td>\n",
              "      <td>PAYMENT</td>\n",
              "      <td>1864.28</td>\n",
              "      <td>21249.00</td>\n",
              "      <td>19384.72</td>\n",
              "      <td>0.00</td>\n",
              "      <td>0.00</td>\n",
              "      <td>0</td>\n",
              "    </tr>\n",
              "    <tr>\n",
              "      <th>2</th>\n",
              "      <td>1</td>\n",
              "      <td>TRANSFER</td>\n",
              "      <td>181.00</td>\n",
              "      <td>181.00</td>\n",
              "      <td>0.00</td>\n",
              "      <td>0.00</td>\n",
              "      <td>0.00</td>\n",
              "      <td>1</td>\n",
              "    </tr>\n",
              "    <tr>\n",
              "      <th>3</th>\n",
              "      <td>1</td>\n",
              "      <td>CASH_OUT</td>\n",
              "      <td>181.00</td>\n",
              "      <td>181.00</td>\n",
              "      <td>0.00</td>\n",
              "      <td>21182.00</td>\n",
              "      <td>0.00</td>\n",
              "      <td>1</td>\n",
              "    </tr>\n",
              "    <tr>\n",
              "      <th>4</th>\n",
              "      <td>1</td>\n",
              "      <td>PAYMENT</td>\n",
              "      <td>11668.14</td>\n",
              "      <td>41554.00</td>\n",
              "      <td>29885.86</td>\n",
              "      <td>0.00</td>\n",
              "      <td>0.00</td>\n",
              "      <td>0</td>\n",
              "    </tr>\n",
              "    <tr>\n",
              "      <th>...</th>\n",
              "      <td>...</td>\n",
              "      <td>...</td>\n",
              "      <td>...</td>\n",
              "      <td>...</td>\n",
              "      <td>...</td>\n",
              "      <td>...</td>\n",
              "      <td>...</td>\n",
              "      <td>...</td>\n",
              "    </tr>\n",
              "    <tr>\n",
              "      <th>6362615</th>\n",
              "      <td>743</td>\n",
              "      <td>CASH_OUT</td>\n",
              "      <td>339682.13</td>\n",
              "      <td>339682.13</td>\n",
              "      <td>0.00</td>\n",
              "      <td>0.00</td>\n",
              "      <td>339682.13</td>\n",
              "      <td>1</td>\n",
              "    </tr>\n",
              "    <tr>\n",
              "      <th>6362616</th>\n",
              "      <td>743</td>\n",
              "      <td>TRANSFER</td>\n",
              "      <td>6311409.28</td>\n",
              "      <td>6311409.28</td>\n",
              "      <td>0.00</td>\n",
              "      <td>0.00</td>\n",
              "      <td>0.00</td>\n",
              "      <td>1</td>\n",
              "    </tr>\n",
              "    <tr>\n",
              "      <th>6362617</th>\n",
              "      <td>743</td>\n",
              "      <td>CASH_OUT</td>\n",
              "      <td>6311409.28</td>\n",
              "      <td>6311409.28</td>\n",
              "      <td>0.00</td>\n",
              "      <td>68488.84</td>\n",
              "      <td>6379898.11</td>\n",
              "      <td>1</td>\n",
              "    </tr>\n",
              "    <tr>\n",
              "      <th>6362618</th>\n",
              "      <td>743</td>\n",
              "      <td>TRANSFER</td>\n",
              "      <td>850002.52</td>\n",
              "      <td>850002.52</td>\n",
              "      <td>0.00</td>\n",
              "      <td>0.00</td>\n",
              "      <td>0.00</td>\n",
              "      <td>1</td>\n",
              "    </tr>\n",
              "    <tr>\n",
              "      <th>6362619</th>\n",
              "      <td>743</td>\n",
              "      <td>CASH_OUT</td>\n",
              "      <td>850002.52</td>\n",
              "      <td>850002.52</td>\n",
              "      <td>0.00</td>\n",
              "      <td>6510099.11</td>\n",
              "      <td>7360101.63</td>\n",
              "      <td>1</td>\n",
              "    </tr>\n",
              "  </tbody>\n",
              "</table>\n",
              "<p>6362077 rows × 8 columns</p>\n",
              "</div>\n",
              "    <div class=\"colab-df-buttons\">\n",
              "\n",
              "  <div class=\"colab-df-container\">\n",
              "    <button class=\"colab-df-convert\" onclick=\"convertToInteractive('df-d23bb44d-3df8-446e-b8a2-d3e0b4590e52')\"\n",
              "            title=\"Convert this dataframe to an interactive table.\"\n",
              "            style=\"display:none;\">\n",
              "\n",
              "  <svg xmlns=\"http://www.w3.org/2000/svg\" height=\"24px\" viewBox=\"0 -960 960 960\">\n",
              "    <path d=\"M120-120v-720h720v720H120Zm60-500h600v-160H180v160Zm220 220h160v-160H400v160Zm0 220h160v-160H400v160ZM180-400h160v-160H180v160Zm440 0h160v-160H620v160ZM180-180h160v-160H180v160Zm440 0h160v-160H620v160Z\"/>\n",
              "  </svg>\n",
              "    </button>\n",
              "\n",
              "  <style>\n",
              "    .colab-df-container {\n",
              "      display:flex;\n",
              "      gap: 12px;\n",
              "    }\n",
              "\n",
              "    .colab-df-convert {\n",
              "      background-color: #E8F0FE;\n",
              "      border: none;\n",
              "      border-radius: 50%;\n",
              "      cursor: pointer;\n",
              "      display: none;\n",
              "      fill: #1967D2;\n",
              "      height: 32px;\n",
              "      padding: 0 0 0 0;\n",
              "      width: 32px;\n",
              "    }\n",
              "\n",
              "    .colab-df-convert:hover {\n",
              "      background-color: #E2EBFA;\n",
              "      box-shadow: 0px 1px 2px rgba(60, 64, 67, 0.3), 0px 1px 3px 1px rgba(60, 64, 67, 0.15);\n",
              "      fill: #174EA6;\n",
              "    }\n",
              "\n",
              "    .colab-df-buttons div {\n",
              "      margin-bottom: 4px;\n",
              "    }\n",
              "\n",
              "    [theme=dark] .colab-df-convert {\n",
              "      background-color: #3B4455;\n",
              "      fill: #D2E3FC;\n",
              "    }\n",
              "\n",
              "    [theme=dark] .colab-df-convert:hover {\n",
              "      background-color: #434B5C;\n",
              "      box-shadow: 0px 1px 3px 1px rgba(0, 0, 0, 0.15);\n",
              "      filter: drop-shadow(0px 1px 2px rgba(0, 0, 0, 0.3));\n",
              "      fill: #FFFFFF;\n",
              "    }\n",
              "  </style>\n",
              "\n",
              "    <script>\n",
              "      const buttonEl =\n",
              "        document.querySelector('#df-d23bb44d-3df8-446e-b8a2-d3e0b4590e52 button.colab-df-convert');\n",
              "      buttonEl.style.display =\n",
              "        google.colab.kernel.accessAllowed ? 'block' : 'none';\n",
              "\n",
              "      async function convertToInteractive(key) {\n",
              "        const element = document.querySelector('#df-d23bb44d-3df8-446e-b8a2-d3e0b4590e52');\n",
              "        const dataTable =\n",
              "          await google.colab.kernel.invokeFunction('convertToInteractive',\n",
              "                                                    [key], {});\n",
              "        if (!dataTable) return;\n",
              "\n",
              "        const docLinkHtml = 'Like what you see? Visit the ' +\n",
              "          '<a target=\"_blank\" href=https://colab.research.google.com/notebooks/data_table.ipynb>data table notebook</a>'\n",
              "          + ' to learn more about interactive tables.';\n",
              "        element.innerHTML = '';\n",
              "        dataTable['output_type'] = 'display_data';\n",
              "        await google.colab.output.renderOutput(dataTable, element);\n",
              "        const docLink = document.createElement('div');\n",
              "        docLink.innerHTML = docLinkHtml;\n",
              "        element.appendChild(docLink);\n",
              "      }\n",
              "    </script>\n",
              "  </div>\n",
              "\n",
              "\n",
              "<div id=\"df-6976be61-4801-43f3-b2f4-66ff77a9e3ba\">\n",
              "  <button class=\"colab-df-quickchart\" onclick=\"quickchart('df-6976be61-4801-43f3-b2f4-66ff77a9e3ba')\"\n",
              "            title=\"Suggest charts\"\n",
              "            style=\"display:none;\">\n",
              "\n",
              "<svg xmlns=\"http://www.w3.org/2000/svg\" height=\"24px\"viewBox=\"0 0 24 24\"\n",
              "     width=\"24px\">\n",
              "    <g>\n",
              "        <path d=\"M19 3H5c-1.1 0-2 .9-2 2v14c0 1.1.9 2 2 2h14c1.1 0 2-.9 2-2V5c0-1.1-.9-2-2-2zM9 17H7v-7h2v7zm4 0h-2V7h2v10zm4 0h-2v-4h2v4z\"/>\n",
              "    </g>\n",
              "</svg>\n",
              "  </button>\n",
              "\n",
              "<style>\n",
              "  .colab-df-quickchart {\n",
              "      --bg-color: #E8F0FE;\n",
              "      --fill-color: #1967D2;\n",
              "      --hover-bg-color: #E2EBFA;\n",
              "      --hover-fill-color: #174EA6;\n",
              "      --disabled-fill-color: #AAA;\n",
              "      --disabled-bg-color: #DDD;\n",
              "  }\n",
              "\n",
              "  [theme=dark] .colab-df-quickchart {\n",
              "      --bg-color: #3B4455;\n",
              "      --fill-color: #D2E3FC;\n",
              "      --hover-bg-color: #434B5C;\n",
              "      --hover-fill-color: #FFFFFF;\n",
              "      --disabled-bg-color: #3B4455;\n",
              "      --disabled-fill-color: #666;\n",
              "  }\n",
              "\n",
              "  .colab-df-quickchart {\n",
              "    background-color: var(--bg-color);\n",
              "    border: none;\n",
              "    border-radius: 50%;\n",
              "    cursor: pointer;\n",
              "    display: none;\n",
              "    fill: var(--fill-color);\n",
              "    height: 32px;\n",
              "    padding: 0;\n",
              "    width: 32px;\n",
              "  }\n",
              "\n",
              "  .colab-df-quickchart:hover {\n",
              "    background-color: var(--hover-bg-color);\n",
              "    box-shadow: 0 1px 2px rgba(60, 64, 67, 0.3), 0 1px 3px 1px rgba(60, 64, 67, 0.15);\n",
              "    fill: var(--button-hover-fill-color);\n",
              "  }\n",
              "\n",
              "  .colab-df-quickchart-complete:disabled,\n",
              "  .colab-df-quickchart-complete:disabled:hover {\n",
              "    background-color: var(--disabled-bg-color);\n",
              "    fill: var(--disabled-fill-color);\n",
              "    box-shadow: none;\n",
              "  }\n",
              "\n",
              "  .colab-df-spinner {\n",
              "    border: 2px solid var(--fill-color);\n",
              "    border-color: transparent;\n",
              "    border-bottom-color: var(--fill-color);\n",
              "    animation:\n",
              "      spin 1s steps(1) infinite;\n",
              "  }\n",
              "\n",
              "  @keyframes spin {\n",
              "    0% {\n",
              "      border-color: transparent;\n",
              "      border-bottom-color: var(--fill-color);\n",
              "      border-left-color: var(--fill-color);\n",
              "    }\n",
              "    20% {\n",
              "      border-color: transparent;\n",
              "      border-left-color: var(--fill-color);\n",
              "      border-top-color: var(--fill-color);\n",
              "    }\n",
              "    30% {\n",
              "      border-color: transparent;\n",
              "      border-left-color: var(--fill-color);\n",
              "      border-top-color: var(--fill-color);\n",
              "      border-right-color: var(--fill-color);\n",
              "    }\n",
              "    40% {\n",
              "      border-color: transparent;\n",
              "      border-right-color: var(--fill-color);\n",
              "      border-top-color: var(--fill-color);\n",
              "    }\n",
              "    60% {\n",
              "      border-color: transparent;\n",
              "      border-right-color: var(--fill-color);\n",
              "    }\n",
              "    80% {\n",
              "      border-color: transparent;\n",
              "      border-right-color: var(--fill-color);\n",
              "      border-bottom-color: var(--fill-color);\n",
              "    }\n",
              "    90% {\n",
              "      border-color: transparent;\n",
              "      border-bottom-color: var(--fill-color);\n",
              "    }\n",
              "  }\n",
              "</style>\n",
              "\n",
              "  <script>\n",
              "    async function quickchart(key) {\n",
              "      const quickchartButtonEl =\n",
              "        document.querySelector('#' + key + ' button');\n",
              "      quickchartButtonEl.disabled = true;  // To prevent multiple clicks.\n",
              "      quickchartButtonEl.classList.add('colab-df-spinner');\n",
              "      try {\n",
              "        const charts = await google.colab.kernel.invokeFunction(\n",
              "            'suggestCharts', [key], {});\n",
              "      } catch (error) {\n",
              "        console.error('Error during call to suggestCharts:', error);\n",
              "      }\n",
              "      quickchartButtonEl.classList.remove('colab-df-spinner');\n",
              "      quickchartButtonEl.classList.add('colab-df-quickchart-complete');\n",
              "    }\n",
              "    (() => {\n",
              "      let quickchartButtonEl =\n",
              "        document.querySelector('#df-6976be61-4801-43f3-b2f4-66ff77a9e3ba button');\n",
              "      quickchartButtonEl.style.display =\n",
              "        google.colab.kernel.accessAllowed ? 'block' : 'none';\n",
              "    })();\n",
              "  </script>\n",
              "</div>\n",
              "\n",
              "    </div>\n",
              "  </div>\n"
            ],
            "application/vnd.google.colaboratory.intrinsic+json": {
              "type": "dataframe"
            }
          },
          "metadata": {},
          "execution_count": 19
        }
      ]
    },
    {
      "cell_type": "code",
      "source": [
        "df['type'].unique()"
      ],
      "metadata": {
        "colab": {
          "base_uri": "https://localhost:8080/"
        },
        "id": "Jy9RDHz68jM0",
        "outputId": "14208eea-eecb-49fd-81f4-b15e34747514"
      },
      "execution_count": null,
      "outputs": [
        {
          "output_type": "execute_result",
          "data": {
            "text/plain": [
              "array(['PAYMENT', 'TRANSFER', 'CASH_OUT', 'DEBIT', 'CASH_IN'],\n",
              "      dtype=object)"
            ]
          },
          "metadata": {},
          "execution_count": 20
        }
      ]
    },
    {
      "cell_type": "code",
      "source": [
        "# prompt: get category of type with max isFraud = 1\n",
        "\n",
        "most_fraudulent_type = df.groupby('type')['isFraud'].sum().sort_values(ascending=False).index[0]\n",
        "print(f\"Category with the most fraud: {most_fraudulent_type}\")\n"
      ],
      "metadata": {
        "colab": {
          "base_uri": "https://localhost:8080/"
        },
        "id": "vzHvjEg59MTZ",
        "outputId": "388904c2-5d6d-4741-e460-eb1f28b257e0"
      },
      "execution_count": null,
      "outputs": [
        {
          "output_type": "stream",
          "name": "stdout",
          "text": [
            "Category with the most fraud: CASH_OUT\n"
          ]
        }
      ]
    },
    {
      "cell_type": "markdown",
      "source": [
        "We will one-hot encode the type column"
      ],
      "metadata": {
        "id": "6VkUq0lO9NSG"
      }
    },
    {
      "cell_type": "code",
      "source": [
        "df['type'].value_counts()"
      ],
      "metadata": {
        "colab": {
          "base_uri": "https://localhost:8080/"
        },
        "id": "oYzIrx2N-72J",
        "outputId": "3bf14e6c-7f73-42d1-ce8c-64cd643f7e5f"
      },
      "execution_count": null,
      "outputs": [
        {
          "output_type": "execute_result",
          "data": {
            "text/plain": [
              "type\n",
              "CASH_OUT    2237500\n",
              "PAYMENT     2151495\n",
              "CASH_IN     1399284\n",
              "TRANSFER     532909\n",
              "DEBIT         41432\n",
              "Name: count, dtype: int64"
            ]
          },
          "metadata": {},
          "execution_count": 22
        }
      ]
    },
    {
      "cell_type": "code",
      "source": [
        "type_dummies = pd.get_dummies(df['type']).astype('int')"
      ],
      "metadata": {
        "id": "iE3drQT5--9J"
      },
      "execution_count": null,
      "outputs": []
    },
    {
      "cell_type": "code",
      "source": [
        "df = pd.concat([df,type_dummies], axis=1)\n",
        "df.drop('type', axis=1, inplace=True)\n"
      ],
      "metadata": {
        "id": "_h0seEo4_dRR"
      },
      "execution_count": null,
      "outputs": []
    },
    {
      "cell_type": "code",
      "source": [
        "df.head()"
      ],
      "metadata": {
        "colab": {
          "base_uri": "https://localhost:8080/",
          "height": 206
        },
        "id": "YnH0197Y_iSa",
        "outputId": "0c0b908c-d1b9-4d61-cd46-8394506b4816"
      },
      "execution_count": null,
      "outputs": [
        {
          "output_type": "execute_result",
          "data": {
            "text/plain": [
              "   step    amount  oldbalanceOrg  newbalanceOrig  oldbalanceDest  \\\n",
              "0     1   9839.64       170136.0       160296.36             0.0   \n",
              "1     1   1864.28        21249.0        19384.72             0.0   \n",
              "2     1    181.00          181.0            0.00             0.0   \n",
              "3     1    181.00          181.0            0.00         21182.0   \n",
              "4     1  11668.14        41554.0        29885.86             0.0   \n",
              "\n",
              "   newbalanceDest  isFraud  CASH_IN  CASH_OUT  DEBIT  PAYMENT  TRANSFER  \n",
              "0             0.0        0        0         0      0        1         0  \n",
              "1             0.0        0        0         0      0        1         0  \n",
              "2             0.0        1        0         0      0        0         1  \n",
              "3             0.0        1        0         1      0        0         0  \n",
              "4             0.0        0        0         0      0        1         0  "
            ],
            "text/html": [
              "\n",
              "  <div id=\"df-be975f60-08b2-449d-b902-e56e6f523dff\" class=\"colab-df-container\">\n",
              "    <div>\n",
              "<style scoped>\n",
              "    .dataframe tbody tr th:only-of-type {\n",
              "        vertical-align: middle;\n",
              "    }\n",
              "\n",
              "    .dataframe tbody tr th {\n",
              "        vertical-align: top;\n",
              "    }\n",
              "\n",
              "    .dataframe thead th {\n",
              "        text-align: right;\n",
              "    }\n",
              "</style>\n",
              "<table border=\"1\" class=\"dataframe\">\n",
              "  <thead>\n",
              "    <tr style=\"text-align: right;\">\n",
              "      <th></th>\n",
              "      <th>step</th>\n",
              "      <th>amount</th>\n",
              "      <th>oldbalanceOrg</th>\n",
              "      <th>newbalanceOrig</th>\n",
              "      <th>oldbalanceDest</th>\n",
              "      <th>newbalanceDest</th>\n",
              "      <th>isFraud</th>\n",
              "      <th>CASH_IN</th>\n",
              "      <th>CASH_OUT</th>\n",
              "      <th>DEBIT</th>\n",
              "      <th>PAYMENT</th>\n",
              "      <th>TRANSFER</th>\n",
              "    </tr>\n",
              "  </thead>\n",
              "  <tbody>\n",
              "    <tr>\n",
              "      <th>0</th>\n",
              "      <td>1</td>\n",
              "      <td>9839.64</td>\n",
              "      <td>170136.0</td>\n",
              "      <td>160296.36</td>\n",
              "      <td>0.0</td>\n",
              "      <td>0.0</td>\n",
              "      <td>0</td>\n",
              "      <td>0</td>\n",
              "      <td>0</td>\n",
              "      <td>0</td>\n",
              "      <td>1</td>\n",
              "      <td>0</td>\n",
              "    </tr>\n",
              "    <tr>\n",
              "      <th>1</th>\n",
              "      <td>1</td>\n",
              "      <td>1864.28</td>\n",
              "      <td>21249.0</td>\n",
              "      <td>19384.72</td>\n",
              "      <td>0.0</td>\n",
              "      <td>0.0</td>\n",
              "      <td>0</td>\n",
              "      <td>0</td>\n",
              "      <td>0</td>\n",
              "      <td>0</td>\n",
              "      <td>1</td>\n",
              "      <td>0</td>\n",
              "    </tr>\n",
              "    <tr>\n",
              "      <th>2</th>\n",
              "      <td>1</td>\n",
              "      <td>181.00</td>\n",
              "      <td>181.0</td>\n",
              "      <td>0.00</td>\n",
              "      <td>0.0</td>\n",
              "      <td>0.0</td>\n",
              "      <td>1</td>\n",
              "      <td>0</td>\n",
              "      <td>0</td>\n",
              "      <td>0</td>\n",
              "      <td>0</td>\n",
              "      <td>1</td>\n",
              "    </tr>\n",
              "    <tr>\n",
              "      <th>3</th>\n",
              "      <td>1</td>\n",
              "      <td>181.00</td>\n",
              "      <td>181.0</td>\n",
              "      <td>0.00</td>\n",
              "      <td>21182.0</td>\n",
              "      <td>0.0</td>\n",
              "      <td>1</td>\n",
              "      <td>0</td>\n",
              "      <td>1</td>\n",
              "      <td>0</td>\n",
              "      <td>0</td>\n",
              "      <td>0</td>\n",
              "    </tr>\n",
              "    <tr>\n",
              "      <th>4</th>\n",
              "      <td>1</td>\n",
              "      <td>11668.14</td>\n",
              "      <td>41554.0</td>\n",
              "      <td>29885.86</td>\n",
              "      <td>0.0</td>\n",
              "      <td>0.0</td>\n",
              "      <td>0</td>\n",
              "      <td>0</td>\n",
              "      <td>0</td>\n",
              "      <td>0</td>\n",
              "      <td>1</td>\n",
              "      <td>0</td>\n",
              "    </tr>\n",
              "  </tbody>\n",
              "</table>\n",
              "</div>\n",
              "    <div class=\"colab-df-buttons\">\n",
              "\n",
              "  <div class=\"colab-df-container\">\n",
              "    <button class=\"colab-df-convert\" onclick=\"convertToInteractive('df-be975f60-08b2-449d-b902-e56e6f523dff')\"\n",
              "            title=\"Convert this dataframe to an interactive table.\"\n",
              "            style=\"display:none;\">\n",
              "\n",
              "  <svg xmlns=\"http://www.w3.org/2000/svg\" height=\"24px\" viewBox=\"0 -960 960 960\">\n",
              "    <path d=\"M120-120v-720h720v720H120Zm60-500h600v-160H180v160Zm220 220h160v-160H400v160Zm0 220h160v-160H400v160ZM180-400h160v-160H180v160Zm440 0h160v-160H620v160ZM180-180h160v-160H180v160Zm440 0h160v-160H620v160Z\"/>\n",
              "  </svg>\n",
              "    </button>\n",
              "\n",
              "  <style>\n",
              "    .colab-df-container {\n",
              "      display:flex;\n",
              "      gap: 12px;\n",
              "    }\n",
              "\n",
              "    .colab-df-convert {\n",
              "      background-color: #E8F0FE;\n",
              "      border: none;\n",
              "      border-radius: 50%;\n",
              "      cursor: pointer;\n",
              "      display: none;\n",
              "      fill: #1967D2;\n",
              "      height: 32px;\n",
              "      padding: 0 0 0 0;\n",
              "      width: 32px;\n",
              "    }\n",
              "\n",
              "    .colab-df-convert:hover {\n",
              "      background-color: #E2EBFA;\n",
              "      box-shadow: 0px 1px 2px rgba(60, 64, 67, 0.3), 0px 1px 3px 1px rgba(60, 64, 67, 0.15);\n",
              "      fill: #174EA6;\n",
              "    }\n",
              "\n",
              "    .colab-df-buttons div {\n",
              "      margin-bottom: 4px;\n",
              "    }\n",
              "\n",
              "    [theme=dark] .colab-df-convert {\n",
              "      background-color: #3B4455;\n",
              "      fill: #D2E3FC;\n",
              "    }\n",
              "\n",
              "    [theme=dark] .colab-df-convert:hover {\n",
              "      background-color: #434B5C;\n",
              "      box-shadow: 0px 1px 3px 1px rgba(0, 0, 0, 0.15);\n",
              "      filter: drop-shadow(0px 1px 2px rgba(0, 0, 0, 0.3));\n",
              "      fill: #FFFFFF;\n",
              "    }\n",
              "  </style>\n",
              "\n",
              "    <script>\n",
              "      const buttonEl =\n",
              "        document.querySelector('#df-be975f60-08b2-449d-b902-e56e6f523dff button.colab-df-convert');\n",
              "      buttonEl.style.display =\n",
              "        google.colab.kernel.accessAllowed ? 'block' : 'none';\n",
              "\n",
              "      async function convertToInteractive(key) {\n",
              "        const element = document.querySelector('#df-be975f60-08b2-449d-b902-e56e6f523dff');\n",
              "        const dataTable =\n",
              "          await google.colab.kernel.invokeFunction('convertToInteractive',\n",
              "                                                    [key], {});\n",
              "        if (!dataTable) return;\n",
              "\n",
              "        const docLinkHtml = 'Like what you see? Visit the ' +\n",
              "          '<a target=\"_blank\" href=https://colab.research.google.com/notebooks/data_table.ipynb>data table notebook</a>'\n",
              "          + ' to learn more about interactive tables.';\n",
              "        element.innerHTML = '';\n",
              "        dataTable['output_type'] = 'display_data';\n",
              "        await google.colab.output.renderOutput(dataTable, element);\n",
              "        const docLink = document.createElement('div');\n",
              "        docLink.innerHTML = docLinkHtml;\n",
              "        element.appendChild(docLink);\n",
              "      }\n",
              "    </script>\n",
              "  </div>\n",
              "\n",
              "\n",
              "<div id=\"df-0d65f354-3f76-405e-8351-cb9998164274\">\n",
              "  <button class=\"colab-df-quickchart\" onclick=\"quickchart('df-0d65f354-3f76-405e-8351-cb9998164274')\"\n",
              "            title=\"Suggest charts\"\n",
              "            style=\"display:none;\">\n",
              "\n",
              "<svg xmlns=\"http://www.w3.org/2000/svg\" height=\"24px\"viewBox=\"0 0 24 24\"\n",
              "     width=\"24px\">\n",
              "    <g>\n",
              "        <path d=\"M19 3H5c-1.1 0-2 .9-2 2v14c0 1.1.9 2 2 2h14c1.1 0 2-.9 2-2V5c0-1.1-.9-2-2-2zM9 17H7v-7h2v7zm4 0h-2V7h2v10zm4 0h-2v-4h2v4z\"/>\n",
              "    </g>\n",
              "</svg>\n",
              "  </button>\n",
              "\n",
              "<style>\n",
              "  .colab-df-quickchart {\n",
              "      --bg-color: #E8F0FE;\n",
              "      --fill-color: #1967D2;\n",
              "      --hover-bg-color: #E2EBFA;\n",
              "      --hover-fill-color: #174EA6;\n",
              "      --disabled-fill-color: #AAA;\n",
              "      --disabled-bg-color: #DDD;\n",
              "  }\n",
              "\n",
              "  [theme=dark] .colab-df-quickchart {\n",
              "      --bg-color: #3B4455;\n",
              "      --fill-color: #D2E3FC;\n",
              "      --hover-bg-color: #434B5C;\n",
              "      --hover-fill-color: #FFFFFF;\n",
              "      --disabled-bg-color: #3B4455;\n",
              "      --disabled-fill-color: #666;\n",
              "  }\n",
              "\n",
              "  .colab-df-quickchart {\n",
              "    background-color: var(--bg-color);\n",
              "    border: none;\n",
              "    border-radius: 50%;\n",
              "    cursor: pointer;\n",
              "    display: none;\n",
              "    fill: var(--fill-color);\n",
              "    height: 32px;\n",
              "    padding: 0;\n",
              "    width: 32px;\n",
              "  }\n",
              "\n",
              "  .colab-df-quickchart:hover {\n",
              "    background-color: var(--hover-bg-color);\n",
              "    box-shadow: 0 1px 2px rgba(60, 64, 67, 0.3), 0 1px 3px 1px rgba(60, 64, 67, 0.15);\n",
              "    fill: var(--button-hover-fill-color);\n",
              "  }\n",
              "\n",
              "  .colab-df-quickchart-complete:disabled,\n",
              "  .colab-df-quickchart-complete:disabled:hover {\n",
              "    background-color: var(--disabled-bg-color);\n",
              "    fill: var(--disabled-fill-color);\n",
              "    box-shadow: none;\n",
              "  }\n",
              "\n",
              "  .colab-df-spinner {\n",
              "    border: 2px solid var(--fill-color);\n",
              "    border-color: transparent;\n",
              "    border-bottom-color: var(--fill-color);\n",
              "    animation:\n",
              "      spin 1s steps(1) infinite;\n",
              "  }\n",
              "\n",
              "  @keyframes spin {\n",
              "    0% {\n",
              "      border-color: transparent;\n",
              "      border-bottom-color: var(--fill-color);\n",
              "      border-left-color: var(--fill-color);\n",
              "    }\n",
              "    20% {\n",
              "      border-color: transparent;\n",
              "      border-left-color: var(--fill-color);\n",
              "      border-top-color: var(--fill-color);\n",
              "    }\n",
              "    30% {\n",
              "      border-color: transparent;\n",
              "      border-left-color: var(--fill-color);\n",
              "      border-top-color: var(--fill-color);\n",
              "      border-right-color: var(--fill-color);\n",
              "    }\n",
              "    40% {\n",
              "      border-color: transparent;\n",
              "      border-right-color: var(--fill-color);\n",
              "      border-top-color: var(--fill-color);\n",
              "    }\n",
              "    60% {\n",
              "      border-color: transparent;\n",
              "      border-right-color: var(--fill-color);\n",
              "    }\n",
              "    80% {\n",
              "      border-color: transparent;\n",
              "      border-right-color: var(--fill-color);\n",
              "      border-bottom-color: var(--fill-color);\n",
              "    }\n",
              "    90% {\n",
              "      border-color: transparent;\n",
              "      border-bottom-color: var(--fill-color);\n",
              "    }\n",
              "  }\n",
              "</style>\n",
              "\n",
              "  <script>\n",
              "    async function quickchart(key) {\n",
              "      const quickchartButtonEl =\n",
              "        document.querySelector('#' + key + ' button');\n",
              "      quickchartButtonEl.disabled = true;  // To prevent multiple clicks.\n",
              "      quickchartButtonEl.classList.add('colab-df-spinner');\n",
              "      try {\n",
              "        const charts = await google.colab.kernel.invokeFunction(\n",
              "            'suggestCharts', [key], {});\n",
              "      } catch (error) {\n",
              "        console.error('Error during call to suggestCharts:', error);\n",
              "      }\n",
              "      quickchartButtonEl.classList.remove('colab-df-spinner');\n",
              "      quickchartButtonEl.classList.add('colab-df-quickchart-complete');\n",
              "    }\n",
              "    (() => {\n",
              "      let quickchartButtonEl =\n",
              "        document.querySelector('#df-0d65f354-3f76-405e-8351-cb9998164274 button');\n",
              "      quickchartButtonEl.style.display =\n",
              "        google.colab.kernel.accessAllowed ? 'block' : 'none';\n",
              "    })();\n",
              "  </script>\n",
              "</div>\n",
              "\n",
              "    </div>\n",
              "  </div>\n"
            ],
            "application/vnd.google.colaboratory.intrinsic+json": {
              "type": "dataframe",
              "variable_name": "df"
            }
          },
          "metadata": {},
          "execution_count": 25
        }
      ]
    },
    {
      "cell_type": "markdown",
      "source": [
        "Find the correlation between independent columns"
      ],
      "metadata": {
        "id": "CxzPMcLh_u_g"
      }
    },
    {
      "cell_type": "code",
      "source": [
        "import matplotlib.pyplot as plt\n",
        "import seaborn as sb\n",
        "corr=df.corr()\n",
        "plt.figure(figsize=(9,4))\n",
        "sb.heatmap(df.corr(), annot=True, cmap='coolwarm', fmt='.2f')\n",
        "plt.title('Correlation Matrix')\n",
        "plt.show()"
      ],
      "metadata": {
        "colab": {
          "base_uri": "https://localhost:8080/",
          "height": 492
        },
        "id": "uz9nQPrj_2J9",
        "outputId": "f26aa93a-a61c-4a59-85d0-7d555c3124e2"
      },
      "execution_count": null,
      "outputs": [
        {
          "output_type": "display_data",
          "data": {
            "text/plain": [
              "<Figure size 900x400 with 2 Axes>"
            ],
            "image/png": "[encoded data removed]"
          },
          "metadata": {}
        }
      ]
    },
    {
      "cell_type": "markdown",
      "source": [
        "We can see that 'oldbalanceOrg','oldbalanceDest'are too much correlated. So we can drop them."
      ],
      "metadata": {
        "id": "SAInkB50FnmC"
      }
    },
    {
      "cell_type": "code",
      "source": [
        "df.drop(columns=['oldbalanceOrg','oldbalanceDest'],inplace=True)"
      ],
      "metadata": {
        "id": "Jb2mRTkw_5XX"
      },
      "execution_count": null,
      "outputs": []
    },
    {
      "cell_type": "code",
      "source": [
        "df.head()"
      ],
      "metadata": {
        "colab": {
          "base_uri": "https://localhost:8080/",
          "height": 206
        },
        "id": "oABSMwh6Aqxj",
        "outputId": "adb0ee19-0ec3-47cb-b658-8370cdf2b557"
      },
      "execution_count": null,
      "outputs": [
        {
          "output_type": "execute_result",
          "data": {
            "text/plain": [
              "   step    amount  newbalanceOrig  newbalanceDest  isFraud  CASH_IN  CASH_OUT  \\\n",
              "0     1   9839.64       160296.36             0.0        0        0         0   \n",
              "1     1   1864.28        19384.72             0.0        0        0         0   \n",
              "2     1    181.00            0.00             0.0        1        0         0   \n",
              "3     1    181.00            0.00             0.0        1        0         1   \n",
              "4     1  11668.14        29885.86             0.0        0        0         0   \n",
              "\n",
              "   DEBIT  PAYMENT  TRANSFER  \n",
              "0      0        1         0  \n",
              "1      0        1         0  \n",
              "2      0        0         1  \n",
              "3      0        0         0  \n",
              "4      0        1         0  "
            ],
            "text/html": [
              "\n",
              "  <div id=\"df-05059ea4-2115-427f-a98b-b96a853fac5d\" class=\"colab-df-container\">\n",
              "    <div>\n",
              "<style scoped>\n",
              "    .dataframe tbody tr th:only-of-type {\n",
              "        vertical-align: middle;\n",
              "    }\n",
              "\n",
              "    .dataframe tbody tr th {\n",
              "        vertical-align: top;\n",
              "    }\n",
              "\n",
              "    .dataframe thead th {\n",
              "        text-align: right;\n",
              "    }\n",
              "</style>\n",
              "<table border=\"1\" class=\"dataframe\">\n",
              "  <thead>\n",
              "    <tr style=\"text-align: right;\">\n",
              "      <th></th>\n",
              "      <th>step</th>\n",
              "      <th>amount</th>\n",
              "      <th>newbalanceOrig</th>\n",
              "      <th>newbalanceDest</th>\n",
              "      <th>isFraud</th>\n",
              "      <th>CASH_IN</th>\n",
              "      <th>CASH_OUT</th>\n",
              "      <th>DEBIT</th>\n",
              "      <th>PAYMENT</th>\n",
              "      <th>TRANSFER</th>\n",
              "    </tr>\n",
              "  </thead>\n",
              "  <tbody>\n",
              "    <tr>\n",
              "      <th>0</th>\n",
              "      <td>1</td>\n",
              "      <td>9839.64</td>\n",
              "      <td>160296.36</td>\n",
              "      <td>0.0</td>\n",
              "      <td>0</td>\n",
              "      <td>0</td>\n",
              "      <td>0</td>\n",
              "      <td>0</td>\n",
              "      <td>1</td>\n",
              "      <td>0</td>\n",
              "    </tr>\n",
              "    <tr>\n",
              "      <th>1</th>\n",
              "      <td>1</td>\n",
              "      <td>1864.28</td>\n",
              "      <td>19384.72</td>\n",
              "      <td>0.0</td>\n",
              "      <td>0</td>\n",
              "      <td>0</td>\n",
              "      <td>0</td>\n",
              "      <td>0</td>\n",
              "      <td>1</td>\n",
              "      <td>0</td>\n",
              "    </tr>\n",
              "    <tr>\n",
              "      <th>2</th>\n",
              "      <td>1</td>\n",
              "      <td>181.00</td>\n",
              "      <td>0.00</td>\n",
              "      <td>0.0</td>\n",
              "      <td>1</td>\n",
              "      <td>0</td>\n",
              "      <td>0</td>\n",
              "      <td>0</td>\n",
              "      <td>0</td>\n",
              "      <td>1</td>\n",
              "    </tr>\n",
              "    <tr>\n",
              "      <th>3</th>\n",
              "      <td>1</td>\n",
              "      <td>181.00</td>\n",
              "      <td>0.00</td>\n",
              "      <td>0.0</td>\n",
              "      <td>1</td>\n",
              "      <td>0</td>\n",
              "      <td>1</td>\n",
              "      <td>0</td>\n",
              "      <td>0</td>\n",
              "      <td>0</td>\n",
              "    </tr>\n",
              "    <tr>\n",
              "      <th>4</th>\n",
              "      <td>1</td>\n",
              "      <td>11668.14</td>\n",
              "      <td>29885.86</td>\n",
              "      <td>0.0</td>\n",
              "      <td>0</td>\n",
              "      <td>0</td>\n",
              "      <td>0</td>\n",
              "      <td>0</td>\n",
              "      <td>1</td>\n",
              "      <td>0</td>\n",
              "    </tr>\n",
              "  </tbody>\n",
              "</table>\n",
              "</div>\n",
              "    <div class=\"colab-df-buttons\">\n",
              "\n",
              "  <div class=\"colab-df-container\">\n",
              "    <button class=\"colab-df-convert\" onclick=\"convertToInteractive('df-05059ea4-2115-427f-a98b-b96a853fac5d')\"\n",
              "            title=\"Convert this dataframe to an interactive table.\"\n",
              "            style=\"display:none;\">\n",
              "\n",
              "  <svg xmlns=\"http://www.w3.org/2000/svg\" height=\"24px\" viewBox=\"0 -960 960 960\">\n",
              "    <path d=\"M120-120v-720h720v720H120Zm60-500h600v-160H180v160Zm220 220h160v-160H400v160Zm0 220h160v-160H400v160ZM180-400h160v-160H180v160Zm440 0h160v-160H620v160ZM180-180h160v-160H180v160Zm440 0h160v-160H620v160Z\"/>\n",
              "  </svg>\n",
              "    </button>\n",
              "\n",
              "  <style>\n",
              "    .colab-df-container {\n",
              "      display:flex;\n",
              "      gap: 12px;\n",
              "    }\n",
              "\n",
              "    .colab-df-convert {\n",
              "      background-color: #E8F0FE;\n",
              "      border: none;\n",
              "      border-radius: 50%;\n",
              "      cursor: pointer;\n",
              "      display: none;\n",
              "      fill: #1967D2;\n",
              "      height: 32px;\n",
              "      padding: 0 0 0 0;\n",
              "      width: 32px;\n",
              "    }\n",
              "\n",
              "    .colab-df-convert:hover {\n",
              "      background-color: #E2EBFA;\n",
              "      box-shadow: 0px 1px 2px rgba(60, 64, 67, 0.3), 0px 1px 3px 1px rgba(60, 64, 67, 0.15);\n",
              "      fill: #174EA6;\n",
              "    }\n",
              "\n",
              "    .colab-df-buttons div {\n",
              "      margin-bottom: 4px;\n",
              "    }\n",
              "\n",
              "    [theme=dark] .colab-df-convert {\n",
              "      background-color: #3B4455;\n",
              "      fill: #D2E3FC;\n",
              "    }\n",
              "\n",
              "    [theme=dark] .colab-df-convert:hover {\n",
              "      background-color: #434B5C;\n",
              "      box-shadow: 0px 1px 3px 1px rgba(0, 0, 0, 0.15);\n",
              "      filter: drop-shadow(0px 1px 2px rgba(0, 0, 0, 0.3));\n",
              "      fill: #FFFFFF;\n",
              "    }\n",
              "  </style>\n",
              "\n",
              "    <script>\n",
              "      const buttonEl =\n",
              "        document.querySelector('#df-05059ea4-2115-427f-a98b-b96a853fac5d button.colab-df-convert');\n",
              "      buttonEl.style.display =\n",
              "        google.colab.kernel.accessAllowed ? 'block' : 'none';\n",
              "\n",
              "      async function convertToInteractive(key) {\n",
              "        const element = document.querySelector('#df-05059ea4-2115-427f-a98b-b96a853fac5d');\n",
              "        const dataTable =\n",
              "          await google.colab.kernel.invokeFunction('convertToInteractive',\n",
              "                                                    [key], {});\n",
              "        if (!dataTable) return;\n",
              "\n",
              "        const docLinkHtml = 'Like what you see? Visit the ' +\n",
              "          '<a target=\"_blank\" href=https://colab.research.google.com/notebooks/data_table.ipynb>data table notebook</a>'\n",
              "          + ' to learn more about interactive tables.';\n",
              "        element.innerHTML = '';\n",
              "        dataTable['output_type'] = 'display_data';\n",
              "        await google.colab.output.renderOutput(dataTable, element);\n",
              "        const docLink = document.createElement('div');\n",
              "        docLink.innerHTML = docLinkHtml;\n",
              "        element.appendChild(docLink);\n",
              "      }\n",
              "    </script>\n",
              "  </div>\n",
              "\n",
              "\n",
              "<div id=\"df-be3518f8-c888-4f96-b4b4-6394be5e14b4\">\n",
              "  <button class=\"colab-df-quickchart\" onclick=\"quickchart('df-be3518f8-c888-4f96-b4b4-6394be5e14b4')\"\n",
              "            title=\"Suggest charts\"\n",
              "            style=\"display:none;\">\n",
              "\n",
              "<svg xmlns=\"http://www.w3.org/2000/svg\" height=\"24px\"viewBox=\"0 0 24 24\"\n",
              "     width=\"24px\">\n",
              "    <g>\n",
              "        <path d=\"M19 3H5c-1.1 0-2 .9-2 2v14c0 1.1.9 2 2 2h14c1.1 0 2-.9 2-2V5c0-1.1-.9-2-2-2zM9 17H7v-7h2v7zm4 0h-2V7h2v10zm4 0h-2v-4h2v4z\"/>\n",
              "    </g>\n",
              "</svg>\n",
              "  </button>\n",
              "\n",
              "<style>\n",
              "  .colab-df-quickchart {\n",
              "      --bg-color: #E8F0FE;\n",
              "      --fill-color: #1967D2;\n",
              "      --hover-bg-color: #E2EBFA;\n",
              "      --hover-fill-color: #174EA6;\n",
              "      --disabled-fill-color: #AAA;\n",
              "      --disabled-bg-color: #DDD;\n",
              "  }\n",
              "\n",
              "  [theme=dark] .colab-df-quickchart {\n",
              "      --bg-color: #3B4455;\n",
              "      --fill-color: #D2E3FC;\n",
              "      --hover-bg-color: #434B5C;\n",
              "      --hover-fill-color: #FFFFFF;\n",
              "      --disabled-bg-color: #3B4455;\n",
              "      --disabled-fill-color: #666;\n",
              "  }\n",
              "\n",
              "  .colab-df-quickchart {\n",
              "    background-color: var(--bg-color);\n",
              "    border: none;\n",
              "    border-radius: 50%;\n",
              "    cursor: pointer;\n",
              "    display: none;\n",
              "    fill: var(--fill-color);\n",
              "    height: 32px;\n",
              "    padding: 0;\n",
              "    width: 32px;\n",
              "  }\n",
              "\n",
              "  .colab-df-quickchart:hover {\n",
              "    background-color: var(--hover-bg-color);\n",
              "    box-shadow: 0 1px 2px rgba(60, 64, 67, 0.3), 0 1px 3px 1px rgba(60, 64, 67, 0.15);\n",
              "    fill: var(--button-hover-fill-color);\n",
              "  }\n",
              "\n",
              "  .colab-df-quickchart-complete:disabled,\n",
              "  .colab-df-quickchart-complete:disabled:hover {\n",
              "    background-color: var(--disabled-bg-color);\n",
              "    fill: var(--disabled-fill-color);\n",
              "    box-shadow: none;\n",
              "  }\n",
              "\n",
              "  .colab-df-spinner {\n",
              "    border: 2px solid var(--fill-color);\n",
              "    border-color: transparent;\n",
              "    border-bottom-color: var(--fill-color);\n",
              "    animation:\n",
              "      spin 1s steps(1) infinite;\n",
              "  }\n",
              "\n",
              "  @keyframes spin {\n",
              "    0% {\n",
              "      border-color: transparent;\n",
              "      border-bottom-color: var(--fill-color);\n",
              "      border-left-color: var(--fill-color);\n",
              "    }\n",
              "    20% {\n",
              "      border-color: transparent;\n",
              "      border-left-color: var(--fill-color);\n",
              "      border-top-color: var(--fill-color);\n",
              "    }\n",
              "    30% {\n",
              "      border-color: transparent;\n",
              "      border-left-color: var(--fill-color);\n",
              "      border-top-color: var(--fill-color);\n",
              "      border-right-color: var(--fill-color);\n",
              "    }\n",
              "    40% {\n",
              "      border-color: transparent;\n",
              "      border-right-color: var(--fill-color);\n",
              "      border-top-color: var(--fill-color);\n",
              "    }\n",
              "    60% {\n",
              "      border-color: transparent;\n",
              "      border-right-color: var(--fill-color);\n",
              "    }\n",
              "    80% {\n",
              "      border-color: transparent;\n",
              "      border-right-color: var(--fill-color);\n",
              "      border-bottom-color: var(--fill-color);\n",
              "    }\n",
              "    90% {\n",
              "      border-color: transparent;\n",
              "      border-bottom-color: var(--fill-color);\n",
              "    }\n",
              "  }\n",
              "</style>\n",
              "\n",
              "  <script>\n",
              "    async function quickchart(key) {\n",
              "      const quickchartButtonEl =\n",
              "        document.querySelector('#' + key + ' button');\n",
              "      quickchartButtonEl.disabled = true;  // To prevent multiple clicks.\n",
              "      quickchartButtonEl.classList.add('colab-df-spinner');\n",
              "      try {\n",
              "        const charts = await google.colab.kernel.invokeFunction(\n",
              "            'suggestCharts', [key], {});\n",
              "      } catch (error) {\n",
              "        console.error('Error during call to suggestCharts:', error);\n",
              "      }\n",
              "      quickchartButtonEl.classList.remove('colab-df-spinner');\n",
              "      quickchartButtonEl.classList.add('colab-df-quickchart-complete');\n",
              "    }\n",
              "    (() => {\n",
              "      let quickchartButtonEl =\n",
              "        document.querySelector('#df-be3518f8-c888-4f96-b4b4-6394be5e14b4 button');\n",
              "      quickchartButtonEl.style.display =\n",
              "        google.colab.kernel.accessAllowed ? 'block' : 'none';\n",
              "    })();\n",
              "  </script>\n",
              "</div>\n",
              "\n",
              "    </div>\n",
              "  </div>\n"
            ],
            "application/vnd.google.colaboratory.intrinsic+json": {
              "type": "dataframe",
              "variable_name": "df"
            }
          },
          "metadata": {},
          "execution_count": 28
        }
      ]
    },
    {
      "cell_type": "markdown",
      "source": [
        "Now, we split the dataset"
      ],
      "metadata": {
        "id": "MpK854IeA5sk"
      }
    },
    {
      "cell_type": "code",
      "source": [
        "y=df['isFraud']\n",
        "x=df.loc[:,df.columns!='isFraud']"
      ],
      "metadata": {
        "id": "Jv25jejNA87L"
      },
      "execution_count": null,
      "outputs": []
    },
    {
      "cell_type": "code",
      "source": [
        "print(x.shape,y.shape)"
      ],
      "metadata": {
        "colab": {
          "base_uri": "https://localhost:8080/"
        },
        "id": "tCT2RNn9BCYT",
        "outputId": "c951b8ed-1cba-428c-87b5-6a2a2b1d10b8"
      },
      "execution_count": null,
      "outputs": [
        {
          "output_type": "stream",
          "name": "stdout",
          "text": [
            "(6362620, 9) (6362620,)\n"
          ]
        }
      ]
    },
    {
      "cell_type": "code",
      "source": [
        "from sklearn.model_selection import train_test_split\n",
        "x_train, x_, y_train, y_ = train_test_split(x,y,test_size=0.4, random_state=42)"
      ],
      "metadata": {
        "id": "B9iT-qrgBHn7"
      },
      "execution_count": null,
      "outputs": []
    },
    {
      "cell_type": "code",
      "source": [
        "x_cv,x_test,y_cv,y_test=train_test_split(x_,y_,test_size=0.5,random_state=42)"
      ],
      "metadata": {
        "id": "cdaJyNezCI8b"
      },
      "execution_count": null,
      "outputs": []
    },
    {
      "cell_type": "markdown",
      "source": [
        "Applying logistic regression"
      ],
      "metadata": {
        "id": "hDkH_jvdBgq7"
      }
    },
    {
      "cell_type": "code",
      "source": [
        "from sklearn.preprocessing import StandardScaler\n",
        "from sklearn.linear_model import LogisticRegression\n",
        "from sklearn.metrics import classification_report, confusion_matrix, accuracy_score"
      ],
      "metadata": {
        "id": "QpfmKsuPBjvI"
      },
      "execution_count": null,
      "outputs": []
    },
    {
      "cell_type": "code",
      "source": [
        "scaler = StandardScaler()\n",
        "x_train = scaler.fit_transform(x_train)\n",
        "x_cv = scaler.transform(x_cv)\n",
        "x_test = scaler.transform(x_test)"
      ],
      "metadata": {
        "id": "jDax_8YPCWN6"
      },
      "execution_count": null,
      "outputs": []
    },
    {
      "cell_type": "code",
      "source": [
        "# Instantiate the model\n",
        "logreg = LogisticRegression(random_state=42)\n",
        "\n",
        "# Train the model\n",
        "logreg.fit(x_train, y_train)"
      ],
      "metadata": {
        "colab": {
          "base_uri": "https://localhost:8080/",
          "height": 74
        },
        "id": "y4GkeNg9Cu38",
        "outputId": "0f9cd46a-3682-4cf7-a9ba-ef30f267dd4b"
      },
      "execution_count": null,
      "outputs": [
        {
          "output_type": "execute_result",
          "data": {
            "text/plain": [
              "LogisticRegression(random_state=42)"
            ],
            "text/html": [
              "<style>#sk-container-id-1 {color: black;background-color: white;}#sk-container-id-1 pre{padding: 0;}#sk-container-id-1 div.sk-toggleable {background-color: white;}#sk-container-id-1 label.sk-toggleable__label {cursor: pointer;display: block;width: 100%;margin-bottom: 0;padding: 0.3em;box-sizing: border-box;text-align: center;}#sk-container-id-1 label.sk-toggleable__label-arrow:before {content: \"▸\";float: left;margin-right: 0.25em;color: #696969;}#sk-container-id-1 label.sk-toggleable__label-arrow:hover:before {color: black;}#sk-container-id-1 div.sk-estimator:hover label.sk-toggleable__label-arrow:before {color: black;}#sk-container-id-1 div.sk-toggleable__content {max-height: 0;max-width: 0;overflow: hidden;text-align: left;background-color: #f0f8ff;}#sk-container-id-1 div.sk-toggleable__content pre {margin: 0.2em;color: black;border-radius: 0.25em;background-color: #f0f8ff;}#sk-container-id-1 input.sk-toggleable__control:checked~div.sk-toggleable__content {max-height: 200px;max-width: 100%;overflow: auto;}#sk-container-id-1 input.sk-toggleable__control:checked~label.sk-toggleable__label-arrow:before {content: \"▾\";}#sk-container-id-1 div.sk-estimator input.sk-toggleable__control:checked~label.sk-toggleable__label {background-color: #d4ebff;}#sk-container-id-1 div.sk-label input.sk-toggleable__control:checked~label.sk-toggleable__label {background-color: #d4ebff;}#sk-container-id-1 input.sk-hidden--visually {border: 0;clip: rect(1px 1px 1px 1px);clip: rect(1px, 1px, 1px, 1px);height: 1px;margin: -1px;overflow: hidden;padding: 0;position: absolute;width: 1px;}#sk-container-id-1 div.sk-estimator {font-family: monospace;background-color: #f0f8ff;border: 1px dotted black;border-radius: 0.25em;box-sizing: border-box;margin-bottom: 0.5em;}#sk-container-id-1 div.sk-estimator:hover {background-color: #d4ebff;}#sk-container-id-1 div.sk-parallel-item::after {content: \"\";width: 100%;border-bottom: 1px solid gray;flex-grow: 1;}#sk-container-id-1 div.sk-label:hover label.sk-toggleable__label {background-color: #d4ebff;}#sk-container-id-1 div.sk-serial::before {content: \"\";position: absolute;border-left: 1px solid gray;box-sizing: border-box;top: 0;bottom: 0;left: 50%;z-index: 0;}#sk-container-id-1 div.sk-serial {display: flex;flex-direction: column;align-items: center;background-color: white;padding-right: 0.2em;padding-left: 0.2em;position: relative;}#sk-container-id-1 div.sk-item {position: relative;z-index: 1;}#sk-container-id-1 div.sk-parallel {display: flex;align-items: stretch;justify-content: center;background-color: white;position: relative;}#sk-container-id-1 div.sk-item::before, #sk-container-id-1 div.sk-parallel-item::before {content: \"\";position: absolute;border-left: 1px solid gray;box-sizing: border-box;top: 0;bottom: 0;left: 50%;z-index: -1;}#sk-container-id-1 div.sk-parallel-item {display: flex;flex-direction: column;z-index: 1;position: relative;background-color: white;}#sk-container-id-1 div.sk-parallel-item:first-child::after {align-self: flex-end;width: 50%;}#sk-container-id-1 div.sk-parallel-item:last-child::after {align-self: flex-start;width: 50%;}#sk-container-id-1 div.sk-parallel-item:only-child::after {width: 0;}#sk-container-id-1 div.sk-dashed-wrapped {border: 1px dashed gray;margin: 0 0.4em 0.5em 0.4em;box-sizing: border-box;padding-bottom: 0.4em;background-color: white;}#sk-container-id-1 div.sk-label label {font-family: monospace;font-weight: bold;display: inline-block;line-height: 1.2em;}#sk-container-id-1 div.sk-label-container {text-align: center;}#sk-container-id-1 div.sk-container {/* jupyter's `normalize.less` sets `[hidden] { display: none; }` but bootstrap.min.css set `[hidden] { display: none !important; }` so we also need the `!important` here to be able to override the default hidden behavior on the sphinx rendered scikit-learn.org. See: https://github.com/scikit-learn/scikit-learn/issues/21755 */display: inline-block !important;position: relative;}#sk-container-id-1 div.sk-text-repr-fallback {display: none;}</style><div id=\"sk-container-id-1\" class=\"sk-top-container\"><div class=\"sk-text-repr-fallback\"><pre>LogisticRegression(random_state=42)</pre><b>In a Jupyter environment, please rerun this cell to show the HTML representation or trust the notebook. <br />On GitHub, the HTML representation is unable to render, please try loading this page with nbviewer.org.</b></div><div class=\"sk-container\" hidden><div class=\"sk-item\"><div class=\"sk-estimator sk-toggleable\"><input class=\"sk-toggleable__control sk-hidden--visually\" id=\"sk-estimator-id-1\" type=\"checkbox\" checked><label for=\"sk-estimator-id-1\" class=\"sk-toggleable__label sk-toggleable__label-arrow\">LogisticRegression</label><div class=\"sk-toggleable__content\"><pre>LogisticRegression(random_state=42)</pre></div></div></div></div></div>"
            ]
          },
          "metadata": {},
          "execution_count": 38
        }
      ]
    },
    {
      "cell_type": "code",
      "source": [
        "# Make predictions\n",
        "y_pred = logreg.predict(x_cv)"
      ],
      "metadata": {
        "id": "PZywVGvXDDaI"
      },
      "execution_count": null,
      "outputs": []
    },
    {
      "cell_type": "code",
      "source": [
        "print(\"Confusion Matrix:\")\n",
        "print(confusion_matrix(y_cv, y_pred))\n",
        "\n",
        "# Classification report\n",
        "print(\"\\nClassification Report:\")\n",
        "print(classification_report(y_cv, y_pred))\n",
        "\n",
        "# Accuracy score\n",
        "accuracy = accuracy_score(y_cv, y_pred)\n",
        "print(\"\\nAccuracy Score:\", accuracy)"
      ],
      "metadata": {
        "colab": {
          "base_uri": "https://localhost:8080/"
        },
        "id": "3mVauI5pDRBy",
        "outputId": "a6d4f82f-70aa-4b65-c6a4-fdab947a57a4"
      },
      "execution_count": null,
      "outputs": [
        {
          "output_type": "stream",
          "name": "stdout",
          "text": [
            "Confusion Matrix:\n",
            "[[1270898      30]\n",
            " [   1477     119]]\n",
            "\n",
            "Classification Report:\n",
            "              precision    recall  f1-score   support\n",
            "\n",
            "           0       1.00      1.00      1.00   1270928\n",
            "           1       0.80      0.07      0.14      1596\n",
            "\n",
            "    accuracy                           1.00   1272524\n",
            "   macro avg       0.90      0.54      0.57   1272524\n",
            "weighted avg       1.00      1.00      1.00   1272524\n",
            "\n",
            "\n",
            "Accuracy Score: 0.9988157394280972\n"
          ]
        }
      ]
    },
    {
      "cell_type": "code",
      "source": [
        "# prompt: check if the model is overfitting\n",
        "\n",
        "# Calculate the training and cross-validation accuracy\n",
        "y_pred_train = logreg.predict(x_train)\n",
        "accuracy_train = accuracy_score(y_train, y_pred_train)\n",
        "accuracy_cv = accuracy_score(y_cv, y_pred)\n",
        "\n",
        "# Compare the training and cross-validation accuracy\n",
        "if accuracy_train > accuracy_cv:\n",
        "  print(\"\\nThe model is overfitting.\")\n",
        "else:\n",
        "  print(\"\\nThe model is not overfitting.\")\n"
      ],
      "metadata": {
        "colab": {
          "base_uri": "https://localhost:8080/"
        },
        "id": "kd51P0zJDYqI",
        "outputId": "19819d3b-0474-4260-8c09-6ed3107e8b56"
      },
      "execution_count": null,
      "outputs": [
        {
          "output_type": "stream",
          "name": "stdout",
          "text": [
            "\n",
            "The model is not overfitting.\n"
          ]
        }
      ]
    },
    {
      "cell_type": "code",
      "source": [
        "# prompt: get the error after applying x_train and x_cv on the model\n",
        "\n",
        "# Calculate the error after applying x_train and x_cv on the model\n",
        "error_train = np.mean(np.abs(y_train - logreg.predict(x_train)))\n",
        "error_cv = np.mean(np.abs(y_cv - logreg.predict(x_cv)))\n",
        "\n",
        "# Print the errors\n",
        "print(\"Error on training set:\", error_train)\n",
        "print(\"Error on cross-validation set:\", error_cv)\n"
      ],
      "metadata": {
        "colab": {
          "base_uri": "https://localhost:8080/"
        },
        "id": "OoXkZpuxDryv",
        "outputId": "ba412429-8781-46b8-9bba-1256845b66b3"
      },
      "execution_count": null,
      "outputs": [
        {
          "output_type": "stream",
          "name": "stdout",
          "text": [
            "Error on training set: 0.0012083596589664845\n",
            "Error on cross-validation set: 0.0011842605719027696\n"
          ]
        }
      ]
    },
    {
      "cell_type": "markdown",
      "source": [
        "This means our model is working good"
      ],
      "metadata": {
        "id": "hSyPjBD4E531"
      }
    },
    {
      "cell_type": "code",
      "source": [
        "# prompt: find the accuracy on x_test\n",
        "\n",
        "y_pred_test = logreg.predict(x_test)\n",
        "accuracy_test = accuracy_score(y_test, y_pred_test)\n",
        "print(\"Accuracy on test set:\", accuracy_test)\n"
      ],
      "metadata": {
        "colab": {
          "base_uri": "https://localhost:8080/"
        },
        "id": "UHX-rn8KE8-d",
        "outputId": "27ad9a0b-cecb-4db0-dd29-e9aa52fefa19"
      },
      "execution_count": null,
      "outputs": [
        {
          "output_type": "stream",
          "name": "stdout",
          "text": [
            "Accuracy on test set: 0.9987858775158661\n"
          ]
        }
      ]
    },
    {
      "cell_type": "code",
      "source": [
        "# prompt: plot roc and pr curve\n",
        "\n",
        "from sklearn.metrics import roc_curve, auc, precision_recall_curve\n",
        "import matplotlib.pyplot as plt\n",
        "\n",
        "# Calculate ROC curve and AUC\n",
        "probs = logreg.predict_proba(x_cv)[:, 1]\n",
        "fpr, tpr, thresholds = roc_curve(y_cv, probs)\n",
        "roc_auc = auc(fpr, tpr)\n",
        "\n",
        "# Plot ROC curve\n",
        "plt.figure()\n",
        "lw = 2\n",
        "plt.plot(fpr, tpr, color='darkorange',\n",
        "         lw=lw, label='ROC curve (area = %0.2f)' % roc_auc)\n",
        "plt.plot([0, 1], [0, 1], color='navy', lw=lw, linestyle='--')\n",
        "plt.xlim([0.0, 1.0])\n",
        "plt.ylim([0.0, 1.05])\n",
        "plt.xlabel('False Positive Rate')\n",
        "plt.ylabel('True Positive Rate')\n",
        "plt.title('Receiver operating characteristic example')\n",
        "plt.legend(loc=\"lower right\")\n",
        "plt.show()\n",
        "\n",
        "# Calculate precision-recall curve and PR AUC\n",
        "precision, recall, _ = precision_recall_curve(y_cv, probs)\n",
        "pr_auc = auc(recall, precision)\n",
        "\n",
        "# Plot PR curve\n",
        "plt.figure()\n",
        "lw = 2\n",
        "plt.plot(recall, precision, color='darkorange',\n",
        "         lw=lw, label='Precision-recall curve (area = %0.2f)' % pr_auc)\n",
        "plt.xlabel('Recall')\n",
        "plt.ylabel('Precision')\n",
        "plt.xlim([0.0, 1.0])\n",
        "plt.ylim([0.0, 1.05])\n",
        "plt.title('Precision-Recall Curve')\n",
        "plt.legend(loc=\"lower left\")\n",
        "plt.show()\n"
      ],
      "metadata": {
        "colab": {
          "base_uri": "https://localhost:8080/",
          "height": 927
        },
        "id": "1iq3K6QXGUcP",
        "outputId": "70490ae1-4dcd-4009-b280-13075c89af5c"
      },
      "execution_count": null,
      "outputs": [
        {
          "output_type": "display_data",
          "data": {
            "text/plain": [
              "<Figure size 640x480 with 1 Axes>"
            ],
            "image/png": "[encoded data removed]"
          },
          "metadata": {}
        },
        {
          "output_type": "display_data",
          "data": {
            "text/plain": [
              "<Figure size 640x480 with 1 Axes>"
            ],
            "image/png": "[encoded data removed]"
          },
          "metadata": {}
        }
      ]
    },
    {
      "cell_type": "markdown",
      "source": [
        "Now we will implement Random Forest classifier and see the results"
      ],
      "metadata": {
        "id": "cWS0P713FJTv"
      }
    },
    {
      "cell_type": "code",
      "source": [
        "# prompt: implement the random forest classifer\n",
        "\n",
        "from sklearn.ensemble import RandomForestClassifier\n",
        "\n",
        "# Instantiate the model\n",
        "rfc = RandomForestClassifier(random_state=42)\n",
        "\n",
        "# Train the model\n",
        "rfc.fit(x_train, y_train)\n",
        "\n",
        "# Make predictions\n",
        "y_pred = rfc.predict(x_cv)\n",
        "\n",
        "# Print the classification report\n",
        "print(\"\\nClassification Report:\")\n",
        "print(classification_report(y_cv, y_pred))\n",
        "\n",
        "# Calculate the accuracy score\n",
        "accuracy = accuracy_score(y_cv, y_pred)\n",
        "print(\"\\nAccuracy Score:\", accuracy)\n",
        "\n",
        "# Calculate the error after applying x_train and x_cv on the model\n",
        "error_train = np.mean(np.abs(y_train - rfc.predict(x_train)))\n",
        "error_cv = np.mean(np.abs(y_cv - rfc.predict(x_cv)))\n",
        "\n",
        "# Print the errors\n",
        "print(\"Error on training set:\", error_train)\n",
        "print(\"Error on cross-validation set:\", error_cv)\n",
        "\n",
        "# Calculate ROC curve and AUC\n",
        "probs = rfc.predict_proba(x_cv)[:, 1]\n",
        "fpr, tpr, thresholds = roc_curve(y_cv, probs)\n",
        "roc_auc = auc(fpr, tpr)\n",
        "\n",
        "# Plot ROC curve\n",
        "plt.figure()\n",
        "lw = 2\n",
        "plt.plot(fpr, tpr, color='darkorange',\n",
        "         lw=lw, label='ROC curve (area = %0.2f)' % roc_auc)\n",
        "plt.plot([0, 1], [0, 1], color='navy', lw=lw, linestyle='--')\n",
        "plt.xlim([0.0, 1.0])\n",
        "plt.ylim([0.0, 1.05])\n",
        "plt.xlabel('False Positive Rate')\n",
        "plt.ylabel('True Positive Rate')\n",
        "plt.title('Receiver operating characteristic example')\n",
        "plt.legend(loc=\"lower right\")\n",
        "plt.show()\n",
        "\n",
        "# Calculate precision-recall curve and PR AUC\n",
        "precision, recall, _ = precision_recall_curve(y_cv, probs)\n",
        "pr_auc = auc(recall, precision)\n",
        "\n",
        "# Plot PR curve\n",
        "plt.figure()\n",
        "lw = 2\n",
        "plt.plot(recall, precision, color='darkorange',\n",
        "         lw=lw, label='Precision-recall curve (area = %0.2f)' % pr_auc)\n",
        "plt.xlabel('Recall')\n",
        "plt.ylabel('Precision')\n",
        "plt.xlim([0.0, 1.0])\n",
        "plt.ylim([0.0, 1.05])\n",
        "plt.title('Precision-Recall Curve')\n",
        "plt.legend(loc=\"lower left\")\n",
        "plt.show()\n"
      ],
      "metadata": {
        "colab": {
          "base_uri": "https://localhost:8080/",
          "height": 1000
        },
        "id": "CrqGcSZ-HDjU",
        "outputId": "7db47f72-ab69-4093-fbf2-5a3fc689c82d"
      },
      "execution_count": null,
      "outputs": [
        {
          "output_type": "stream",
          "name": "stdout",
          "text": [
            "\n",
            "Classification Report:\n",
            "              precision    recall  f1-score   support\n",
            "\n",
            "           0       1.00      1.00      1.00   1270928\n",
            "           1       0.94      0.67      0.78      1596\n",
            "\n",
            "    accuracy                           1.00   1272524\n",
            "   macro avg       0.97      0.84      0.89   1272524\n",
            "weighted avg       1.00      1.00      1.00   1272524\n",
            "\n",
            "\n",
            "Accuracy Score: 0.9995355686808265\n",
            "Error on training set: 1.0477863940745583e-06\n",
            "Error on cross-validation set: 0.000464431319173548\n"
          ]
        },
        {
          "output_type": "display_data",
          "data": {
            "text/plain": [
              "<Figure size 640x480 with 1 Axes>"
            ],
            "image/png": "[encoded data removed]"
          },
          "metadata": {}
        },
        {
          "output_type": "display_data",
          "data": {
            "text/plain": [
              "<Figure size 640x480 with 1 Axes>"
            ],
            "image/png": "[encoded data removed]"
          },
          "metadata": {}
        }
      ]
    },
    {
      "cell_type": "markdown",
      "source": [
        "We can see that the model is overfitting"
      ],
      "metadata": {
        "id": "HEjrEOjCTFl2"
      }
    },
    {
      "cell_type": "markdown",
      "source": [
        "So, we will try tuning the hyperparameter using RandomizedSearhCV"
      ],
      "metadata": {
        "id": "AWmyoSvZZEgl"
      }
    },
    {
      "cell_type": "code",
      "source": [
        "from sklearn.model_selection import RandomizedSearchCV\n",
        "from scipy.stats import randint\n",
        "param_dist = {'n_estimators': randint(50,500),\n",
        "              'max_depth': randint(1,20)}\n",
        "\n",
        "# Create a random forest classifier\n",
        "rf = RandomForestClassifier()\n",
        "\n",
        "# Use random search to find the best hyperparameters\n",
        "rand_search = RandomizedSearchCV(rf,\n",
        "                                 param_distributions = param_dist,\n",
        "                                 n_iter=5,\n",
        "                                 cv=5)\n",
        "\n",
        "# Fit the random search object to the data\n",
        "\n",
        "rand_search.fit(x_train, y_train)"
      ],
      "metadata": {
        "id": "PKBwuY4RTIwC"
      },
      "execution_count": null,
      "outputs": []
    },
    {
      "cell_type": "code",
      "source": [
        "# Create a variable for the best model\n",
        "best_rf = rand_search.best_estimator_\n",
        "\n",
        "# Print the best hyperparameters\n",
        "print('Best hyperparameters:',  rand_search.best_params_)"
      ],
      "metadata": {
        "collapsed": true,
        "id": "YA5ZcQrNYgJh"
      },
      "execution_count": null,
      "outputs": []
    },
    {
      "cell_type": "markdown",
      "source": [
        "Now, we will use XGBoost"
      ],
      "metadata": {
        "id": "D0jMGTiotBt-"
      }
    },
    {
      "cell_type": "code",
      "source": [
        "import xgboost as xgb\n",
        "\n",
        "# Create regression matrices\n",
        "dtrain_reg = xgb.DMatrix(x_train, y_train, enable_categorical=True)\n",
        "dtest_reg = xgb.DMatrix(x_cv, y_cv, enable_categorical=True)"
      ],
      "metadata": {
        "colab": {
          "base_uri": "https://localhost:8080/",
          "height": 193
        },
        "id": "x7v9_FOntFoE",
        "outputId": "4b45280c-348e-444c-82bd-ec4b2e60af05"
      },
      "execution_count": null,
      "outputs": [
        {
          "output_type": "error",
          "ename": "NameError",
          "evalue": "name 'x_train' is not defined",
          "traceback": [
            "\u001b[0;31m---------------------------------------------------------------------------\u001b[0m",
            "\u001b[0;31mNameError\u001b[0m                                 Traceback (most recent call last)",
            "\u001b[0;32m<ipython-input-2-3862e075c303>\u001b[0m in \u001b[0;36m<cell line: 4>\u001b[0;34m()\u001b[0m\n\u001b[1;32m      2\u001b[0m \u001b[0;34m\u001b[0m\u001b[0m\n\u001b[1;32m      3\u001b[0m \u001b[0;31m# Create regression matrices\u001b[0m\u001b[0;34m\u001b[0m\u001b[0;34m\u001b[0m\u001b[0m\n\u001b[0;32m----> 4\u001b[0;31m \u001b[0mdtrain_reg\u001b[0m \u001b[0;34m=\u001b[0m \u001b[0mxgb\u001b[0m\u001b[0;34m.\u001b[0m\u001b[0mDMatrix\u001b[0m\u001b[0;34m(\u001b[0m\u001b[0mx_train\u001b[0m\u001b[0;34m,\u001b[0m \u001b[0my_train\u001b[0m\u001b[0;34m,\u001b[0m \u001b[0menable_categorical\u001b[0m\u001b[0;34m=\u001b[0m\u001b[0;32mTrue\u001b[0m\u001b[0;34m)\u001b[0m\u001b[0;34m\u001b[0m\u001b[0;34m\u001b[0m\u001b[0m\n\u001b[0m\u001b[1;32m      5\u001b[0m \u001b[0mdtest_reg\u001b[0m \u001b[0;34m=\u001b[0m \u001b[0mxgb\u001b[0m\u001b[0;34m.\u001b[0m\u001b[0mDMatrix\u001b[0m\u001b[0;34m(\u001b[0m\u001b[0mx_cv\u001b[0m\u001b[0;34m,\u001b[0m \u001b[0my_cv\u001b[0m\u001b[0;34m,\u001b[0m \u001b[0menable_categorical\u001b[0m\u001b[0;34m=\u001b[0m\u001b[0;32mTrue\u001b[0m\u001b[0;34m)\u001b[0m\u001b[0;34m\u001b[0m\u001b[0;34m\u001b[0m\u001b[0m\n",
            "\u001b[0;31mNameError\u001b[0m: name 'x_train' is not defined"
          ]
        }
      ]
    },
    {
      "cell_type": "code",
      "source": [
        "import xgboost as xgb\n",
        "\n",
        "# Create regression matrices\n",
        "dtrain_reg = xgb.DMatrix(x_train, y_train, enable_categorical=True)\n",
        "dcv_reg = xgb.DMatrix(x_cv, y_cv, enable_categorical=True)"
      ],
      "metadata": {
        "id": "xhqESpVqthsB"
      },
      "execution_count": null,
      "outputs": []
    },
    {
      "cell_type": "code",
      "source": [
        "# Define hyperparameters\n",
        "params = {\"objective\": \"reg:squarederror\", \"tree_method\": \"hist\"}#gpu_hist for gpu"
      ],
      "metadata": {
        "id": "RCPlAXsevmZT"
      },
      "execution_count": null,
      "outputs": []
    },
    {
      "cell_type": "code",
      "source": [
        "model = xgb.train(\n",
        "   params=params,\n",
        "   dtrain=dtrain_reg,\n",
        "   num_boost_round=100,\n",
        ")"
      ],
      "metadata": {
        "id": "Pw6k1Bf4v-26"
      },
      "execution_count": null,
      "outputs": []
    },
    {
      "cell_type": "code",
      "source": [
        "from sklearn.metrics import mean_squared_error\n",
        "\n",
        "preds = model.predict(dcv_reg)"
      ],
      "metadata": {
        "id": "bJHH-eqXwKkf"
      },
      "execution_count": null,
      "outputs": []
    },
    {
      "cell_type": "code",
      "source": [
        "# prompt: now, evaluate the accuracy of the xgboost model\n",
        "\n",
        "from sklearn.metrics import mean_squared_error\n",
        "from sklearn.metrics import accuracy_score\n",
        "\n",
        "y_pred_xgb = np.where(preds > 0.5, 1, 0)\n",
        "accuracy_xgb = accuracy_score(y_cv, y_pred_xgb)\n",
        "print(\"Accuracy of XGBoost model:\", accuracy_xgb)"
      ],
      "metadata": {
        "colab": {
          "base_uri": "https://localhost:8080/"
        },
        "id": "UTLpgJN_w0Rq",
        "outputId": "d2bb751a-8244-42ba-9e33-bcd10d2f48fb"
      },
      "execution_count": null,
      "outputs": [
        {
          "output_type": "stream",
          "name": "stdout",
          "text": [
            "Accuracy of XGBoost model: 0.9994813457349331\n"
          ]
        }
      ]
    },
    {
      "cell_type": "code",
      "source": [
        "# prompt: plot confusion matrix, pr curve, roc curve and find the errors on train and test set from the model\n",
        "\n",
        "from sklearn.metrics import confusion_matrix, precision_recall_curve, roc_curve, auc\n",
        "import matplotlib.pyplot as plt\n",
        "\n",
        "# Calculate the confusion matrix\n",
        "cm = confusion_matrix(y_cv, y_pred_xgb)\n",
        "\n",
        "# Plot the confusion matrix\n",
        "plt.figure(figsize=(8, 6))\n",
        "sb.heatmap(cm, annot=True, fmt=\"d\", cmap=\"Blues\")\n",
        "plt.xlabel(\"Predicted Label\")\n",
        "plt.ylabel(\"True Label\")\n",
        "plt.title(\"Confusion Matrix\")\n",
        "plt.show()\n",
        "\n",
        "# Calculate the precision-recall curve\n",
        "precision, recall, _ = precision_recall_curve(y_cv, preds)\n",
        "\n",
        "# Calculate the PR AUC\n",
        "pr_auc = auc(recall, precision)\n",
        "\n",
        "# Plot the PR curve\n",
        "plt.figure()\n",
        "lw = 2\n",
        "plt.plot(recall, precision, color=\"darkorange\", lw=lw, label=\"PR Curve (AUC = %0.2f)\" % pr_auc)\n",
        "plt.xlabel(\"Recall\")\n",
        "plt.ylabel(\"Precision\")\n",
        "plt.xlim([0.0, 1.0])\n",
        "plt.ylim([0.0, 1.05])\n",
        "plt.title(\"Precision-Recall Curve\")\n",
        "plt.legend(loc=\"lower left\")\n",
        "plt.show()\n",
        "\n",
        "# Calculate the ROC curve\n",
        "fpr, tpr, _ = roc_curve(y_cv, preds)\n",
        "\n",
        "# Calculate the ROC AUC\n",
        "roc_auc = auc(fpr, tpr)\n",
        "\n",
        "# Plot the ROC curve\n",
        "plt.figure()\n",
        "lw = 2\n",
        "plt.plot(fpr, tpr, color=\"darkorange\", lw=lw, label=\"ROC Curve (AUC = %0.2f)\" % roc_auc)\n",
        "plt.plot([0, 1], [0, 1], color=\"navy\", lw=lw, linestyle=\"--\")\n",
        "plt.xlim([0.0, 1.0])\n",
        "plt.ylim([0.0, 1.05])\n",
        "plt.xlabel(\"False Positive Rate\")\n",
        "plt.ylabel(\"True Positive Rate\")\n",
        "plt.title(\"Receiver Operating Characteristic Curve\")\n",
        "plt.legend(loc=\"lower right\")\n",
        "plt.show()\n",
        "\n",
        "# Calculate the error on the train and test sets\n",
        "error_train = np.mean(np.abs(y_train - model.predict(dtrain_reg)))\n",
        "error_cv = np.mean(np.abs(y_cv - model.predict(dcv_reg)))\n",
        "\n",
        "# Print the errors\n",
        "print(\"Error on training set:\", error_train)\n",
        "print(\"Error on cross-validation set:\", error_cv)\n"
      ],
      "metadata": {
        "colab": {
          "base_uri": "https://localhost:8080/",
          "height": 1000
        },
        "id": "aOIiRptGxJqH",
        "outputId": "b514267a-84fd-4197-f3b9-5aef0788c0a0"
      },
      "execution_count": null,
      "outputs": [
        {
          "output_type": "display_data",
          "data": {
            "text/plain": [
              "<Figure size 800x600 with 2 Axes>"
            ],
            "image/png": "[encoded data removed]"
          },
          "metadata": {}
        },
        {
          "output_type": "display_data",
          "data": {
            "text/plain": [
              "<Figure size 640x480 with 1 Axes>"
            ],
            "image/png": "[encoded data removed]"
          },
          "metadata": {}
        },
        {
          "output_type": "display_data",
          "data": {
            "text/plain": [
              "<Figure size 640x480 with 1 Axes>"
            ],
            "image/png": "[encoded data removed]"
          },
          "metadata": {}
        },
        {
          "output_type": "stream",
          "name": "stdout",
          "text": [
            "Error on training set: 0.0011005896\n",
            "Error on cross-validation set: 0.001151702\n"
          ]
        }
      ]
    },
    {
      "cell_type": "markdown",
      "source": [
        "So, XGBoost is a good model. It is not overfitting."
      ],
      "metadata": {
        "id": "yyJJtqPkxy4V"
      }
    },
    {
      "cell_type": "markdown",
      "source": [
        "Now, we will use Light Gradient Boosting Model"
      ],
      "metadata": {
        "id": "FY9Z4UKWz7DR"
      }
    },
    {
      "cell_type": "code",
      "source": [
        "! pip install --upgrade lightgbm"
      ],
      "metadata": {
        "colab": {
          "base_uri": "https://localhost:8080/"
        },
        "id": "50g0qPso1yAV",
        "outputId": "4b62d894-4332-4ee2-83ef-ace3a4ddf53c"
      },
      "execution_count": null,
      "outputs": [
        {
          "output_type": "stream",
          "name": "stdout",
          "text": [
            "Requirement already satisfied: lightgbm in /usr/local/lib/python3.10/dist-packages (4.1.0)\n",
            "Collecting lightgbm\n",
            "  Downloading lightgbm-4.4.0-py3-none-manylinux_2_28_x86_64.whl (3.6 MB)\n",
            "\u001b[2K     \u001b[90m━━━━━━━━━━━━━━━━━━━━━━━━━━━━━━━━━━━━━━━━\u001b[0m \u001b[32m3.6/3.6 MB\u001b[0m \u001b[31m15.5 MB/s\u001b[0m eta \u001b[36m0:00:00\u001b[0m\n",
            "\u001b[?25hRequirement already satisfied: numpy>=1.17.0 in /usr/local/lib/python3.10/dist-packages (from lightgbm) (1.25.2)\n",
            "Requirement already satisfied: scipy in /usr/local/lib/python3.10/dist-packages (from lightgbm) (1.11.4)\n",
            "Installing collected packages: lightgbm\n",
            "  Attempting uninstall: lightgbm\n",
            "    Found existing installation: lightgbm 4.1.0\n",
            "    Uninstalling lightgbm-4.1.0:\n",
            "      Successfully uninstalled lightgbm-4.1.0\n",
            "Successfully installed lightgbm-4.4.0\n"
          ]
        }
      ]
    },
    {
      "cell_type": "code",
      "source": [
        "from sklearn import metrics\n",
        "import lightgbm as lgb\n",
        "from sklearn.metrics import accuracy_score, log_loss\n",
        "\n",
        "model = lgb.LGBMClassifier(learning_rate=0.09,max_depth=-5,random_state=42,verbosity=20)\n",
        "model.fit(x_train,y_train,eval_set=[(x_cv,y_cv),(x_train,y_train)],eval_metric='logloss')"
      ],
      "metadata": {
        "colab": {
          "base_uri": "https://localhost:8080/",
          "height": 1000
        },
        "collapsed": true,
        "id": "aYAc-3yx0FBm",
        "outputId": "2c7d78bd-06be-4392-9518-0e85cef2bf8e"
      },
      "execution_count": null,
      "outputs": [
        {
          "output_type": "stream",
          "name": "stdout",
          "text": [
            "[LightGBM] [Info] Number of positive: 4947, number of negative: 3812625\n",
            "[LightGBM] [Debug] Dataset::GetMultiBinFromSparseFeatures: sparse rate 0.897360\n",
            "[LightGBM] [Debug] Dataset::GetMultiBinFromAllFeatures: sparse rate 0.299120\n",
            "[LightGBM] [Debug] init for col-wise cost 0.511367 seconds, init for row-wise cost 0.888117 seconds\n",
            "[LightGBM] [Info] Auto-choosing row-wise multi-threading, the overhead of testing was 0.704943 seconds.\n",
            "You can set `force_row_wise=true` to remove the overhead.\n",
            "And if memory is not enough, you can set `force_col_wise=true`.\n",
            "[LightGBM] [Debug] Using Sparse Multi-Val Bin\n",
            "[LightGBM] [Info] Total Bins 1035\n",
            "[LightGBM] [Info] Number of data points in the train set: 3817572, number of used features: 9\n",
            "[LightGBM] [Info] [binary:BoostFromScore]: pavg=0.001296 -> initscore=-6.647292\n",
            "[LightGBM] [Info] Start training from score -6.647292\n",
            "[LightGBM] [Debug] Trained a tree with leaves = 31 and depth = 10\n",
            "[LightGBM] [Debug] Trained a tree with leaves = 31 and depth = 13\n",
            "[LightGBM] [Debug] Trained a tree with leaves = 31 and depth = 9\n",
            "[LightGBM] [Debug] Trained a tree with leaves = 31 and depth = 10\n",
            "[LightGBM] [Debug] Trained a tree with leaves = 31 and depth = 9\n",
            "[LightGBM] [Debug] Trained a tree with leaves = 31 and depth = 9\n",
            "[LightGBM] [Debug] Trained a tree with leaves = 31 and depth = 10\n",
            "[LightGBM] [Debug] Trained a tree with leaves = 31 and depth = 8\n",
            "[LightGBM] [Debug] Trained a tree with leaves = 31 and depth = 8\n",
            "[LightGBM] [Debug] Trained a tree with leaves = 31 and depth = 14\n",
            "[LightGBM] [Debug] Trained a tree with leaves = 31 and depth = 13\n",
            "[LightGBM] [Debug] Trained a tree with leaves = 31 and depth = 7\n",
            "[LightGBM] [Debug] Trained a tree with leaves = 31 and depth = 10\n",
            "[LightGBM] [Debug] Trained a tree with leaves = 31 and depth = 10\n",
            "[LightGBM] [Debug] Trained a tree with leaves = 31 and depth = 10\n",
            "[LightGBM] [Debug] Trained a tree with leaves = 31 and depth = 8\n",
            "[LightGBM] [Debug] Trained a tree with leaves = 31 and depth = 9\n",
            "[LightGBM] [Debug] Trained a tree with leaves = 31 and depth = 10\n",
            "[LightGBM] [Debug] Trained a tree with leaves = 31 and depth = 8\n",
            "[LightGBM] [Debug] Trained a tree with leaves = 31 and depth = 9\n",
            "[LightGBM] [Debug] Trained a tree with leaves = 31 and depth = 9\n",
            "[LightGBM] [Debug] Trained a tree with leaves = 31 and depth = 8\n",
            "[LightGBM] [Debug] Trained a tree with leaves = 31 and depth = 10\n",
            "[LightGBM] [Debug] Trained a tree with leaves = 31 and depth = 8\n",
            "[LightGBM] [Debug] Trained a tree with leaves = 31 and depth = 10\n",
            "[LightGBM] [Debug] Trained a tree with leaves = 31 and depth = 12\n",
            "[LightGBM] [Debug] Trained a tree with leaves = 31 and depth = 10\n",
            "[LightGBM] [Debug] Trained a tree with leaves = 31 and depth = 13\n",
            "[LightGBM] [Debug] Trained a tree with leaves = 31 and depth = 10\n",
            "[LightGBM] [Debug] Trained a tree with leaves = 31 and depth = 13\n",
            "[LightGBM] [Debug] Trained a tree with leaves = 31 and depth = 16\n",
            "[LightGBM] [Debug] Trained a tree with leaves = 31 and depth = 12\n",
            "[LightGBM] [Debug] Trained a tree with leaves = 31 and depth = 10\n",
            "[LightGBM] [Debug] Trained a tree with leaves = 31 and depth = 11\n",
            "[LightGBM] [Debug] Trained a tree with leaves = 31 and depth = 10\n",
            "[LightGBM] [Debug] Trained a tree with leaves = 31 and depth = 10\n",
            "[LightGBM] [Debug] Trained a tree with leaves = 31 and depth = 8\n",
            "[LightGBM] [Debug] Trained a tree with leaves = 31 and depth = 12\n",
            "[LightGBM] [Debug] Trained a tree with leaves = 31 and depth = 12\n",
            "[LightGBM] [Debug] Trained a tree with leaves = 31 and depth = 10\n",
            "[LightGBM] [Debug] Trained a tree with leaves = 31 and depth = 8\n",
            "[LightGBM] [Debug] Trained a tree with leaves = 31 and depth = 13\n",
            "[LightGBM] [Debug] Trained a tree with leaves = 31 and depth = 8\n",
            "[LightGBM] [Debug] Trained a tree with leaves = 31 and depth = 9\n",
            "[LightGBM] [Debug] Trained a tree with leaves = 31 and depth = 8\n",
            "[LightGBM] [Debug] Trained a tree with leaves = 31 and depth = 12\n",
            "[LightGBM] [Debug] Trained a tree with leaves = 31 and depth = 9\n",
            "[LightGBM] [Debug] Trained a tree with leaves = 31 and depth = 11\n",
            "[LightGBM] [Debug] Trained a tree with leaves = 31 and depth = 9\n",
            "[LightGBM] [Debug] Trained a tree with leaves = 31 and depth = 9\n",
            "[LightGBM] [Debug] Trained a tree with leaves = 31 and depth = 12\n",
            "[LightGBM] [Debug] Trained a tree with leaves = 31 and depth = 13\n",
            "[LightGBM] [Debug] Trained a tree with leaves = 31 and depth = 9\n",
            "[LightGBM] [Debug] Trained a tree with leaves = 31 and depth = 10\n",
            "[LightGBM] [Debug] Trained a tree with leaves = 31 and depth = 14\n",
            "[LightGBM] [Debug] Trained a tree with leaves = 31 and depth = 12\n",
            "[LightGBM] [Debug] Trained a tree with leaves = 31 and depth = 11\n",
            "[LightGBM] [Debug] Trained a tree with leaves = 31 and depth = 10\n",
            "[LightGBM] [Debug] Trained a tree with leaves = 31 and depth = 10\n",
            "[LightGBM] [Debug] Trained a tree with leaves = 31 and depth = 10\n",
            "[LightGBM] [Debug] Trained a tree with leaves = 31 and depth = 10\n",
            "[LightGBM] [Debug] Trained a tree with leaves = 31 and depth = 10\n",
            "[LightGBM] [Debug] Trained a tree with leaves = 31 and depth = 10\n",
            "[LightGBM] [Debug] Trained a tree with leaves = 31 and depth = 9\n",
            "[LightGBM] [Debug] Trained a tree with leaves = 31 and depth = 8\n",
            "[LightGBM] [Debug] Trained a tree with leaves = 31 and depth = 10\n",
            "[LightGBM] [Debug] Trained a tree with leaves = 31 and depth = 11\n",
            "[LightGBM] [Debug] Trained a tree with leaves = 31 and depth = 10\n",
            "[LightGBM] [Debug] Trained a tree with leaves = 31 and depth = 7\n",
            "[LightGBM] [Debug] Trained a tree with leaves = 31 and depth = 10\n",
            "[LightGBM] [Debug] Trained a tree with leaves = 31 and depth = 11\n",
            "[LightGBM] [Debug] Trained a tree with leaves = 31 and depth = 11\n",
            "[LightGBM] [Debug] Trained a tree with leaves = 31 and depth = 12\n",
            "[LightGBM] [Debug] Trained a tree with leaves = 31 and depth = 8\n",
            "[LightGBM] [Debug] Trained a tree with leaves = 31 and depth = 12\n",
            "[LightGBM] [Debug] Trained a tree with leaves = 31 and depth = 10\n",
            "[LightGBM] [Debug] Trained a tree with leaves = 31 and depth = 12\n",
            "[LightGBM] [Debug] Trained a tree with leaves = 31 and depth = 9\n",
            "[LightGBM] [Debug] Trained a tree with leaves = 31 and depth = 11\n",
            "[LightGBM] [Debug] Trained a tree with leaves = 31 and depth = 14\n",
            "[LightGBM] [Debug] Trained a tree with leaves = 31 and depth = 9\n",
            "[LightGBM] [Debug] Trained a tree with leaves = 31 and depth = 11\n",
            "[LightGBM] [Debug] Trained a tree with leaves = 31 and depth = 9\n",
            "[LightGBM] [Debug] Trained a tree with leaves = 31 and depth = 10\n",
            "[LightGBM] [Debug] Trained a tree with leaves = 31 and depth = 10\n",
            "[LightGBM] [Debug] Trained a tree with leaves = 31 and depth = 9\n",
            "[LightGBM] [Debug] Trained a tree with leaves = 31 and depth = 15\n",
            "[LightGBM] [Debug] Trained a tree with leaves = 31 and depth = 11\n",
            "[LightGBM] [Debug] Trained a tree with leaves = 31 and depth = 12\n",
            "[LightGBM] [Debug] Trained a tree with leaves = 31 and depth = 13\n",
            "[LightGBM] [Debug] Trained a tree with leaves = 31 and depth = 10\n",
            "[LightGBM] [Debug] Trained a tree with leaves = 31 and depth = 11\n",
            "[LightGBM] [Debug] Trained a tree with leaves = 31 and depth = 13\n",
            "[LightGBM] [Debug] Trained a tree with leaves = 31 and depth = 10\n",
            "[LightGBM] [Debug] Trained a tree with leaves = 31 and depth = 9\n",
            "[LightGBM] [Debug] Trained a tree with leaves = 31 and depth = 8\n",
            "[LightGBM] [Debug] Trained a tree with leaves = 31 and depth = 11\n",
            "[LightGBM] [Debug] Trained a tree with leaves = 31 and depth = 11\n",
            "[LightGBM] [Debug] Trained a tree with leaves = 31 and depth = 11\n",
            "[LightGBM] [Debug] Trained a tree with leaves = 31 and depth = 10\n"
          ]
        },
        {
          "output_type": "execute_result",
          "data": {
            "text/plain": [
              "LGBMClassifier(learning_rate=0.09, max_depth=-5, random_state=42, verbosity=20)"
            ],
            "text/html": [
              "<style>#sk-container-id-1 {color: black;background-color: white;}#sk-container-id-1 pre{padding: 0;}#sk-container-id-1 div.sk-toggleable {background-color: white;}#sk-container-id-1 label.sk-toggleable__label {cursor: pointer;display: block;width: 100%;margin-bottom: 0;padding: 0.3em;box-sizing: border-box;text-align: center;}#sk-container-id-1 label.sk-toggleable__label-arrow:before {content: \"▸\";float: left;margin-right: 0.25em;color: #696969;}#sk-container-id-1 label.sk-toggleable__label-arrow:hover:before {color: black;}#sk-container-id-1 div.sk-estimator:hover label.sk-toggleable__label-arrow:before {color: black;}#sk-container-id-1 div.sk-toggleable__content {max-height: 0;max-width: 0;overflow: hidden;text-align: left;background-color: #f0f8ff;}#sk-container-id-1 div.sk-toggleable__content pre {margin: 0.2em;color: black;border-radius: 0.25em;background-color: #f0f8ff;}#sk-container-id-1 input.sk-toggleable__control:checked~div.sk-toggleable__content {max-height: 200px;max-width: 100%;overflow: auto;}#sk-container-id-1 input.sk-toggleable__control:checked~label.sk-toggleable__label-arrow:before {content: \"▾\";}#sk-container-id-1 div.sk-estimator input.sk-toggleable__control:checked~label.sk-toggleable__label {background-color: #d4ebff;}#sk-container-id-1 div.sk-label input.sk-toggleable__control:checked~label.sk-toggleable__label {background-color: #d4ebff;}#sk-container-id-1 input.sk-hidden--visually {border: 0;clip: rect(1px 1px 1px 1px);clip: rect(1px, 1px, 1px, 1px);height: 1px;margin: -1px;overflow: hidden;padding: 0;position: absolute;width: 1px;}#sk-container-id-1 div.sk-estimator {font-family: monospace;background-color: #f0f8ff;border: 1px dotted black;border-radius: 0.25em;box-sizing: border-box;margin-bottom: 0.5em;}#sk-container-id-1 div.sk-estimator:hover {background-color: #d4ebff;}#sk-container-id-1 div.sk-parallel-item::after {content: \"\";width: 100%;border-bottom: 1px solid gray;flex-grow: 1;}#sk-container-id-1 div.sk-label:hover label.sk-toggleable__label {background-color: #d4ebff;}#sk-container-id-1 div.sk-serial::before {content: \"\";position: absolute;border-left: 1px solid gray;box-sizing: border-box;top: 0;bottom: 0;left: 50%;z-index: 0;}#sk-container-id-1 div.sk-serial {display: flex;flex-direction: column;align-items: center;background-color: white;padding-right: 0.2em;padding-left: 0.2em;position: relative;}#sk-container-id-1 div.sk-item {position: relative;z-index: 1;}#sk-container-id-1 div.sk-parallel {display: flex;align-items: stretch;justify-content: center;background-color: white;position: relative;}#sk-container-id-1 div.sk-item::before, #sk-container-id-1 div.sk-parallel-item::before {content: \"\";position: absolute;border-left: 1px solid gray;box-sizing: border-box;top: 0;bottom: 0;left: 50%;z-index: -1;}#sk-container-id-1 div.sk-parallel-item {display: flex;flex-direction: column;z-index: 1;position: relative;background-color: white;}#sk-container-id-1 div.sk-parallel-item:first-child::after {align-self: flex-end;width: 50%;}#sk-container-id-1 div.sk-parallel-item:last-child::after {align-self: flex-start;width: 50%;}#sk-container-id-1 div.sk-parallel-item:only-child::after {width: 0;}#sk-container-id-1 div.sk-dashed-wrapped {border: 1px dashed gray;margin: 0 0.4em 0.5em 0.4em;box-sizing: border-box;padding-bottom: 0.4em;background-color: white;}#sk-container-id-1 div.sk-label label {font-family: monospace;font-weight: bold;display: inline-block;line-height: 1.2em;}#sk-container-id-1 div.sk-label-container {text-align: center;}#sk-container-id-1 div.sk-container {/* jupyter's `normalize.less` sets `[hidden] { display: none; }` but bootstrap.min.css set `[hidden] { display: none !important; }` so we also need the `!important` here to be able to override the default hidden behavior on the sphinx rendered scikit-learn.org. See: https://github.com/scikit-learn/scikit-learn/issues/21755 */display: inline-block !important;position: relative;}#sk-container-id-1 div.sk-text-repr-fallback {display: none;}</style><div id=\"sk-container-id-1\" class=\"sk-top-container\"><div class=\"sk-text-repr-fallback\"><pre>LGBMClassifier(learning_rate=0.09, max_depth=-5, random_state=42, verbosity=20)</pre><b>In a Jupyter environment, please rerun this cell to show the HTML representation or trust the notebook. <br />On GitHub, the HTML representation is unable to render, please try loading this page with nbviewer.org.</b></div><div class=\"sk-container\" hidden><div class=\"sk-item\"><div class=\"sk-estimator sk-toggleable\"><input class=\"sk-toggleable__control sk-hidden--visually\" id=\"sk-estimator-id-1\" type=\"checkbox\" checked><label for=\"sk-estimator-id-1\" class=\"sk-toggleable__label sk-toggleable__label-arrow\">LGBMClassifier</label><div class=\"sk-toggleable__content\"><pre>LGBMClassifier(learning_rate=0.09, max_depth=-5, random_state=42, verbosity=20)</pre></div></div></div></div></div>"
            ]
          },
          "metadata": {},
          "execution_count": 56
        }
      ]
    },
    {
      "cell_type": "code",
      "source": [
        "# prompt: find the accuracy , plot the pr curve and roc curve and find the errors on train and cv set from the model\n",
        "\n",
        "y_pred_lgb = model.predict(x_cv)\n",
        "accuracy_lgb = accuracy_score(y_cv, y_pred_lgb)\n",
        "print(\"Accuracy of LightGBM model:\", accuracy_lgb)\n",
        "\n",
        "# Calculate the confusion matrix\n",
        "cm = confusion_matrix(y_cv, y_pred_lgb)\n",
        "\n",
        "# Plot the confusion matrix\n",
        "plt.figure(figsize=(8, 6))\n",
        "sb.heatmap(cm, annot=True, fmt=\"d\", cmap=\"Blues\")\n",
        "plt.xlabel(\"Predicted Label\")\n",
        "plt.ylabel(\"True Label\")\n",
        "plt.title(\"Confusion Matrix\")\n",
        "plt.show()\n",
        "\n",
        "# Calculate the precision-recall curve\n",
        "precision, recall, _ = precision_recall_curve(y_cv, model.predict_proba(x_cv)[:, 1])\n",
        "\n",
        "# Calculate the PR AUC\n",
        "pr_auc = auc(recall, precision)\n",
        "\n",
        "# Plot the PR curve\n",
        "plt.figure()\n",
        "lw = 2\n",
        "plt.plot(recall, precision, color=\"darkorange\", lw=lw, label=\"PR Curve (AUC = %0.2f)\" % pr_auc)\n",
        "plt.xlabel(\"Recall\")\n",
        "plt.ylabel(\"Precision\")\n",
        "plt.xlim([0.0, 1.0])\n",
        "plt.ylim([0.0, 1.05])\n",
        "plt.title(\"Precision-Recall Curve\")\n",
        "plt.legend(loc=\"lower left\")\n",
        "plt.show()\n",
        "\n",
        "# Calculate the ROC curve\n",
        "fpr, tpr, _ = roc_curve(y_cv, model.predict_proba(x_cv)[:, 1])\n",
        "\n",
        "# Calculate the ROC AUC\n",
        "roc_auc = auc(fpr, tpr)\n",
        "\n",
        "# Plot the ROC curve\n",
        "plt.figure()\n",
        "lw = 2\n",
        "plt.plot(fpr, tpr, color=\"darkorange\", lw=lw, label=\"ROC Curve (AUC = %0.2f)\" % roc_auc)\n",
        "plt.plot([0, 1], [0, 1], color=\"navy\", lw=lw, linestyle=\"--\")\n",
        "plt.xlim([0.0, 1.0])\n",
        "plt.ylim([0.0, 1.05])\n",
        "plt.xlabel(\"False Positive Rate\")\n",
        "plt.ylabel(\"True Positive Rate\")\n",
        "plt.title(\"Receiver Operating Characteristic Curve\")\n",
        "plt.legend(loc=\"lower right\")\n",
        "plt.show()\n",
        "\n",
        "# Calculate the error on the train and test sets\n",
        "error_train = np.mean(np.abs(y_train - model.predict(x_train)))\n",
        "error_cv = np.mean(np.abs(y_cv - model.predict(x_cv)))\n",
        "\n",
        "# Print the errors\n",
        "print(\"Error on training set:\", error_train)\n",
        "print(\"Error on cross-validation set:\", error_cv)\n"
      ],
      "metadata": {
        "colab": {
          "base_uri": "https://localhost:8080/",
          "height": 1000
        },
        "id": "TN1mMNU50dLA",
        "outputId": "0ec245ec-9e1e-4573-e536-2d47426ba74b"
      },
      "execution_count": null,
      "outputs": [
        {
          "output_type": "stream",
          "name": "stdout",
          "text": [
            "Accuracy of LightGBM model: 0.9985752724506571\n"
          ]
        },
        {
          "output_type": "display_data",
          "data": {
            "text/plain": [
              "<Figure size 800x600 with 2 Axes>"
            ],
            "image/png": "[encoded data removed]"
          },
          "metadata": {}
        },
        {
          "output_type": "display_data",
          "data": {
            "text/plain": [
              "<Figure size 640x480 with 1 Axes>"
            ],
            "image/png": "[encoded data removed]"
          },
          "metadata": {}
        },
        {
          "output_type": "display_data",
          "data": {
            "text/plain": [
              "<Figure size 640x480 with 1 Axes>"
            ],
            "image/png": "[encoded data removed]"
          },
          "metadata": {}
        },
        {
          "output_type": "stream",
          "name": "stdout",
          "text": [
            "Error on training set: 0.0014155594183947284\n",
            "Error on cross-validation set: 0.0014247275493428808\n"
          ]
        }
      ]
    },
    {
      "cell_type": "markdown",
      "source": [
        "The LGBM model works good and it does not overfit."
      ],
      "metadata": {
        "id": "XkKpDGUk3eYM"
      }
    },
    {
      "cell_type": "markdown",
      "source": [
        "Now, we will try neural network"
      ],
      "metadata": {
        "id": "6u1UJiCkOGGE"
      }
    },
    {
      "cell_type": "code",
      "source": [
        "# prompt: setup neural network with adam optimizer,is_logits=true, relu activation\n",
        "\n",
        "import tensorflow as tf\n",
        "from tensorflow import keras\n",
        "from tensorflow.keras import layers\n",
        "\n",
        "# Define the model\n",
        "model = keras.Sequential([\n",
        "    layers.Dense(128, activation=\"relu\", input_shape=(x_train.shape[1],)),\n",
        "    layers.Dense(64, activation=\"relu\"),\n",
        "    layers.Dense(1, activation=\"linear\", dtype=tf.float32)\n",
        "])\n",
        "\n",
        "# Compile the model\n",
        "model.compile(optimizer=\"adam\", loss=\"binary_crossentropy\", metrics=[\"accuracy\"])\n",
        "\n",
        "# Train the model\n",
        "model.fit(x_train, y_train, epochs=10, validation_data=(x_cv, y_cv))\n",
        "\n",
        "# Evaluate the model on the test set\n",
        "y_pred_nn = model.predict(x_cv)\n",
        "y_pred_nn = np.where(y_pred_nn > 0.5, 1, 0)\n",
        "accuracy_nn = accuracy_score(y_cv, y_pred_nn)\n",
        "print(\"Accuracy of neural network model:\", accuracy_nn)\n",
        "\n",
        "# Calculate the confusion matrix\n",
        "cm = confusion_matrix(y_cv, y_pred_nn)\n",
        "\n",
        "# Plot the confusion matrix\n",
        "plt.figure(figsize=(8, 6))\n",
        "sb.heatmap(cm, annot=True, fmt=\"d\", cmap=\"Blues\")\n",
        "plt.xlabel(\"Predicted Label\")\n",
        "plt.ylabel(\"True Label\")\n",
        "plt.title(\"Confusion Matrix\")\n",
        "plt.show()\n"
      ],
      "metadata": {
        "colab": {
          "base_uri": "https://localhost:8080/",
          "height": 1000
        },
        "id": "QOWmJZUlOJkq",
        "outputId": "d280ea53-997a-4417-f941-18f9d92b223b"
      },
      "execution_count": null,
      "outputs": [
        {
          "output_type": "stream",
          "name": "stdout",
          "text": [
            "Epoch 1/10\n",
            "119300/119300 [==============================] - 393s 3ms/step - loss: 0.0200 - accuracy: 0.9987 - val_loss: 0.0193 - val_accuracy: 0.9987\n",
            "Epoch 2/10\n",
            "119300/119300 [==============================] - 334s 3ms/step - loss: 0.0200 - accuracy: 0.9987 - val_loss: 0.0193 - val_accuracy: 0.9987\n",
            "Epoch 3/10\n",
            "119300/119300 [==============================] - 361s 3ms/step - loss: 0.0200 - accuracy: 0.9987 - val_loss: 0.0193 - val_accuracy: 0.9987\n",
            "Epoch 4/10\n",
            "119300/119300 [==============================] - 359s 3ms/step - loss: 0.0200 - accuracy: 0.9987 - val_loss: 0.0193 - val_accuracy: 0.9987\n",
            "Epoch 5/10\n",
            "119300/119300 [==============================] - 361s 3ms/step - loss: 0.0200 - accuracy: 0.9987 - val_loss: 0.0193 - val_accuracy: 0.9987\n",
            "Epoch 6/10\n",
            "119300/119300 [==============================] - 367s 3ms/step - loss: 0.0200 - accuracy: 0.9987 - val_loss: 0.0193 - val_accuracy: 0.9987\n",
            "Epoch 7/10\n",
            "119300/119300 [==============================] - 332s 3ms/step - loss: 0.0200 - accuracy: 0.9987 - val_loss: 0.0193 - val_accuracy: 0.9987\n",
            "Epoch 8/10\n",
            "119300/119300 [==============================] - 326s 3ms/step - loss: 0.0200 - accuracy: 0.9987 - val_loss: 0.0193 - val_accuracy: 0.9987\n",
            "Epoch 9/10\n",
            "119300/119300 [==============================] - 326s 3ms/step - loss: 0.0200 - accuracy: 0.9987 - val_loss: 0.0193 - val_accuracy: 0.9987\n",
            "Epoch 10/10\n",
            "119300/119300 [==============================] - 324s 3ms/step - loss: 0.0200 - accuracy: 0.9987 - val_loss: 0.0193 - val_accuracy: 0.9987\n",
            "39767/39767 [==============================] - 62s 2ms/step\n",
            "Accuracy of neural network model: 0.9987457996862927\n"
          ]
        },
        {
          "output_type": "display_data",
          "data": {
            "text/plain": [
              "<Figure size 800x600 with 2 Axes>"
            ],
            "image/png": "[encoded data removed]"
          },
          "metadata": {}
        },
        {
          "output_type": "error",
          "ename": "NameError",
          "evalue": "name 'precision_recall_curve' is not defined",
          "traceback": [
            "\u001b[0;31m---------------------------------------------------------------------------\u001b[0m",
            "\u001b[0;31mNameError\u001b[0m                                 Traceback (most recent call last)",
            "\u001b[0;32m<ipython-input-35-220a40f3a199>\u001b[0m in \u001b[0;36m<cell line: 38>\u001b[0;34m()\u001b[0m\n\u001b[1;32m     36\u001b[0m \u001b[0;34m\u001b[0m\u001b[0m\n\u001b[1;32m     37\u001b[0m \u001b[0;31m# Calculate the precision-recall curve\u001b[0m\u001b[0;34m\u001b[0m\u001b[0;34m\u001b[0m\u001b[0m\n\u001b[0;32m---> 38\u001b[0;31m \u001b[0mprecision\u001b[0m\u001b[0;34m,\u001b[0m \u001b[0mrecall\u001b[0m\u001b[0;34m,\u001b[0m \u001b[0m_\u001b[0m \u001b[0;34m=\u001b[0m \u001b[0mprecision_recall_curve\u001b[0m\u001b[0;34m(\u001b[0m\u001b[0my_cv\u001b[0m\u001b[0;34m,\u001b[0m \u001b[0mmodel\u001b[0m\u001b[0;34m.\u001b[0m\u001b[0mpredict\u001b[0m\u001b[0;34m(\u001b[0m\u001b[0mx_cv\u001b[0m\u001b[0;34m)\u001b[0m\u001b[0;34m)\u001b[0m\u001b[0;34m\u001b[0m\u001b[0;34m\u001b[0m\u001b[0m\n\u001b[0m\u001b[1;32m     39\u001b[0m \u001b[0;34m\u001b[0m\u001b[0m\n\u001b[1;32m     40\u001b[0m \u001b[0;31m# Calculate the PR AUC\u001b[0m\u001b[0;34m\u001b[0m\u001b[0;34m\u001b[0m\u001b[0m\n",
            "\u001b[0;31mNameError\u001b[0m: name 'precision_recall_curve' is not defined"
          ]
        }
      ]
    },
    {
      "cell_type": "code",
      "source": [
        "from sklearn.metrics import confusion_matrix, precision_recall_curve, roc_curve, auc\n",
        "# Calculate the precision-recall curve\n",
        "precision, recall, _ = precision_recall_curve(y_cv, model.predict(x_cv))\n",
        "\n",
        "# Calculate the PR AUC\n",
        "pr_auc = auc(recall, precision)\n",
        "\n",
        "# Plot the PR curve\n",
        "plt.figure()\n",
        "lw = 2\n",
        "plt.plot(recall, precision, color=\"darkorange\", lw=lw, label=\"PR Curve (AUC = %0.2f)\" % pr_auc)\n",
        "plt.xlabel(\"Recall\")\n",
        "plt.ylabel(\"Precision\")\n",
        "plt.xlim([0.0, 1.0])\n",
        "plt.ylim([0.0, 1.05])\n",
        "plt.title(\"Precision-Recall Curve\")\n",
        "plt.legend(loc=\"lower left\")\n",
        "plt.show()\n",
        "\n",
        "# Calculate the ROC curve\n",
        "fpr, tpr, _ = roc_curve(y_cv, model.predict(x_cv))\n",
        "\n",
        "# Calculate the ROC AUC\n",
        "roc_auc = auc(fpr, tpr)\n",
        "\n",
        "# Plot the ROC curve\n",
        "plt.figure()\n",
        "lw = 2\n",
        "plt.plot(fpr, tpr, color=\"darkorange\", lw=lw, label=\"ROC Curve (AUC = %0.2f)\" % roc_auc)\n",
        "plt.plot([0, 1], [0, 1], color=\"navy\", lw=lw, linestyle=\"--\")\n",
        "plt.xlim([0.0, 1.0])\n",
        "plt.ylim([0.0, 1.05])\n",
        "plt.xlabel(\"False Positive Rate\")\n",
        "plt.ylabel(\"True Positive Rate\")\n",
        "plt.title(\"Receiver Operating Characteristic Curve\")\n",
        "plt.legend(loc=\"lower right\")\n",
        "plt.show()"
      ],
      "metadata": {
        "colab": {
          "base_uri": "https://localhost:8080/",
          "height": 962
        },
        "id": "9E2Ecq9jPGNm",
        "outputId": "3a8930aa-411a-4027-852e-cbe96d803bff"
      },
      "execution_count": null,
      "outputs": [
        {
          "output_type": "stream",
          "name": "stdout",
          "text": [
            "39767/39767 [==============================] - 71s 2ms/step\n"
          ]
        },
        {
          "output_type": "display_data",
          "data": {
            "text/plain": [
              "<Figure size 640x480 with 1 Axes>"
            ],
            "image/png": "[encoded data removed]"
          },
          "metadata": {}
        },
        {
          "output_type": "stream",
          "name": "stdout",
          "text": [
            "39767/39767 [==============================] - 64s 2ms/step\n"
          ]
        },
        {
          "output_type": "display_data",
          "data": {
            "text/plain": [
              "<Figure size 640x480 with 1 Axes>"
            ],
            "image/png": "[encoded data removed]"
          },
          "metadata": {}
        }
      ]
    },
    {
      "cell_type": "markdown",
      "source": [
        "We can see that the neural network is not working very well, so it is a bad model for our dataset."
      ],
      "metadata": {
        "id": "pexg5R85fntj"
      }
    },
    {
      "cell_type": "markdown",
      "source": [
        "Now, we will use SVM"
      ],
      "metadata": {
        "id": "gLDjKW76f0m3"
      }
    },
    {
      "cell_type": "markdown",
      "source": [
        "As the dataset is very large, SVM will not be a good choice for our model as it works very slow. It is one of the best model for small to moderate sized dataset."
      ],
      "metadata": {
        "id": "2kZKj5YIr2z9"
      }
    },
    {
      "cell_type": "code",
      "source": [
        "# prompt: implement SVM\n",
        "\n",
        "from sklearn.svm import SVC\n",
        "\n",
        "# Create an SVM classifier\n",
        "svm = SVC(kernel='linear', C=1.0)\n",
        "\n",
        "# Train the model\n",
        "svm.fit(x_train, y_train)\n",
        "\n",
        "# Make predictions on the cross-validation set\n",
        "y_pred_svm = svm.predict(x_cv)\n",
        "\n",
        "# Calculate the accuracy score\n",
        "accuracy_svm = accuracy_score(y_cv, y_pred_svm)\n",
        "print(\"Accuracy of SVM model:\", accuracy_svm)\n",
        "\n",
        "# Calculate the confusion matrix\n",
        "cm = confusion_matrix(y_cv, y_pred_svm)\n",
        "\n",
        "# Plot the confusion matrix\n",
        "plt.figure(figsize=(8, 6))\n",
        "sb.heatmap(cm, annot=True, fmt=\"d\", cmap=\"Blues\")\n",
        "plt.xlabel(\"Predicted Label\")\n",
        "plt.ylabel(\"True Label\")\n",
        "plt.title(\"Confusion Matrix\")\n",
        "plt.show()\n",
        "\n",
        "# Calculate the precision-recall curve\n",
        "precision, recall, _ = precision_recall_curve(y_cv, svm.predict_proba(x_cv)[:, 1])\n",
        "\n",
        "# Calculate the PR AUC\n",
        "pr_auc = auc(recall, precision)\n",
        "\n",
        "# Plot the PR curve\n",
        "plt.figure()\n",
        "lw = 2\n",
        "plt.plot(recall, precision, color=\"darkorange\", lw=lw, label=\"PR Curve (AUC = %0.2f)\" % pr_auc)\n",
        "plt.xlabel(\"Recall\")\n",
        "plt.ylabel(\"Precision\")\n",
        "plt.xlim([0.0, 1.0])\n",
        "plt.ylim([0.0, 1.05])\n",
        "plt.title(\"Precision-Recall Curve\")\n",
        "plt.legend(loc=\"lower left\")\n",
        "plt.show()\n",
        "\n",
        "# Calculate the ROC curve\n",
        "fpr, tpr, _ = roc_curve(y_cv, svm.predict_proba(x_cv)[:, 1])\n",
        "\n",
        "# Calculate the ROC AUC\n",
        "roc_auc = auc(fpr, tpr)\n",
        "\n",
        "# Plot the ROC curve\n",
        "plt.figure()\n",
        "lw = 2\n",
        "plt.plot(fpr, tpr, color=\"darkorange\", lw=lw, label=\"ROC Curve (AUC = %0.2f)\" % roc_auc)\n",
        "plt.plot([0, 1], [0, 1], color=\"navy\", lw=lw, linestyle=\"--\")\n",
        "plt.xlim([0.0, 1.0])\n",
        "plt.ylim([0.0, 1.05])\n",
        "plt.xlabel(\"False Positive Rate\")\n",
        "plt.ylabel(\"True Positive Rate\")\n",
        "plt.title(\"Receiver Operating Characteristic Curve\")\n",
        "plt.legend(loc=\"lower right\")\n",
        "plt.show()\n",
        "\n",
        "# Calculate the error on the train and test sets\n",
        "error_train = np.mean(np.abs(y_train - svm.predict(x_train)))\n",
        "error_cv = np.mean(np.abs(y_cv - svm.predict(x_cv)))\n",
        "\n",
        "# Print the errors\n",
        "print(\"Error on training set:\", error_train)\n",
        "print(\"Error on cross-validation set:\", error_cv)\n"
      ],
      "metadata": {
        "id": "_4lvGxigf3X3"
      },
      "execution_count": null,
      "outputs": []
    },
    {
      "cell_type": "markdown",
      "source": [
        "From all the above models, we can see that XGBoost is working best."
      ],
      "metadata": {
        "id": "a9TI4edt4e1F"
      }
    },
    {
      "cell_type": "code",
      "source": [],
      "metadata": {
        "id": "Ww6UoYiN4kRO"
      },
      "execution_count": null,
      "outputs": []
    }
  ]
}